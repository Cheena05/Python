{
  "nbformat": 4,
  "nbformat_minor": 0,
  "metadata": {
    "colab": {
      "provenance": []
    },
    "kernelspec": {
      "name": "python3",
      "display_name": "Python 3"
    },
    "language_info": {
      "name": "python"
    }
  },
  "cells": [
    {
      "cell_type": "markdown",
      "source": [
        "DATA TOOLKIT"
      ],
      "metadata": {
        "id": "XisKfSFW5pxt"
      }
    },
    {
      "cell_type": "markdown",
      "source": [
        "1. What is NumPy, and why is it widely used in Python?\n",
        "\n",
        "NumPy (short for Numerical Python) is a powerful open-source Python library used for numerical computing. It provides support for large, multi-dimensional arrays and matrices, along with a wide collection of high-level mathematical functions to operate on these arrays efficiently.\n",
        "\n",
        "It is widely used as :     \n",
        "\n",
        "1. Efficient Array Operations\n",
        "NumPy arrays (ndarray) are more compact and faster than Python lists.\n",
        "\n",
        "They allow vectorized operations, meaning you can perform operations on entire arrays without writing loops.\n",
        "\n",
        "2. Broad Mathematical Functionality\n",
        "NumPy provides a vast range of functions for:\n",
        "\n",
        "Linear algebra (dot products, matrix decompositions)\n",
        "\n",
        "Fourier transforms\n",
        "\n",
        "Statistical operations (mean, median, std, etc.)\n",
        "\n",
        "Trigonometric functions\n",
        "\n",
        "3. Memory Efficiency\n",
        "Arrays are stored in a contiguous block of memory, enabling fast computation and less overhead compared to Python lists.\n",
        "\n",
        "4. Interoperability\n",
        "NumPy integrates easily with Pandas, Matplotlib, SciPy, and scikit-learn, forming the core of the Python data science stack.\n",
        "\n",
        "It can interface with code written in C, C++, and Fortran for high performance.\n",
        "\n",
        "5. Broadcasting\n",
        "NumPy supports broadcasting, which lets you perform arithmetic operations on arrays of different shapes intelligently."
      ],
      "metadata": {
        "id": "5bmaTDw55wSF"
      }
    },
    {
      "cell_type": "markdown",
      "source": [
        "2. How does broadcasting work in NumPy?\n",
        "\n",
        "When performing operations on two arrays, NumPy compares their shapes element-wise from right to left. Two dimensions are compatible when:\n",
        "\n",
        "They are equal, or\n",
        "\n",
        "One of them is 1\n",
        "\n",
        "If the shapes are compatible, NumPy \"broadcasts\" the smaller array to match the shape of the larger one.\n",
        "\n"
      ],
      "metadata": {
        "id": "y3aZji0s5wOm"
      }
    },
    {
      "cell_type": "markdown",
      "source": [
        "3. What is a Pandas DataFrame?\n",
        "\n",
        "A Pandas DataFrame is a 2-dimensional, tabular data structure in Python, similar to a spreadsheet or SQL table. It is part of the Pandas library, widely used for data analysis and manipulation."
      ],
      "metadata": {
        "id": "PYxn3rog5wMP"
      }
    },
    {
      "cell_type": "markdown",
      "source": [
        "4. Explain the use of the groupby() method in Pandas?\n",
        "\n",
        "The groupby() method in Pandas is used to split a DataFrame into groups based on the values in one or more columns, and then apply some aggregation or transformation on each group.\n",
        "\n",
        "It is used :     \n",
        "To perform operations like:\n",
        "\n",
        "Sum, mean, count, etc., for each group\n",
        "\n",
        "Analyze patterns within subgroups (e.g., sales by region, average score by class)\n",
        "\n",
        "Efficiently summarize and transform data"
      ],
      "metadata": {
        "id": "8nqH6upd5wJg"
      }
    },
    {
      "cell_type": "markdown",
      "source": [
        "5. Why is seaborn prefferd for statistical visualizations?\n",
        "\n",
        "1. Built-in Support for Statistical Analysis\n",
        "Seaborn makes it easy to visualize distributions, regressions, correlations, and categorical comparisons.\n",
        "\n",
        "Automatically handles estimation (e.g., mean, confidence intervals) and bootstrapping.\n",
        "\n",
        "2.  Beautiful, Clean, and Default Styles\n",
        "Produces visually appealing plots with minimal code.\n",
        "\n",
        "Uses themes that look more modern and professional than default Matplotlib.\n",
        "\n",
        "3. Integration with Pandas\n",
        "Works directly with Pandas DataFrames and understands column names.\n",
        "\n",
        "Automatically handles grouping and aggregation under the hood.\n",
        "\n",
        "4. Advanced Plot Types Made Simple\n",
        "Offers complex plots with just one line of code:\n",
        "\n",
        "sns.pairplot() – for scatterplot matrices\n",
        "\n",
        "sns.heatmap() – for correlation matrices\n",
        "\n",
        "sns.violinplot() – for distribution + KDE\n",
        "\n",
        "sns.lmplot() – for linear regression visualization\n",
        "\n",
        "5. Combines Multiple Plots Easily\n",
        "Combines plots like histograms, boxplots, and scatterplots effortlessly with meaningful statistical overlays.\n",
        "\n",
        "6. Automatic Handling of Color Palettes and Legends\n",
        "Automatic and customizable color themes and palette options for categorical or continuous data.\n",
        "\n",
        "\n",
        "\n"
      ],
      "metadata": {
        "id": "rNEJYPLd5wHX"
      }
    },
    {
      "cell_type": "markdown",
      "source": [
        "6. What are the differences between NumPy arrays and Python lists?\n",
        "\n",
        "NumPy Arrays (np.array)\n",
        "Data Type :\tHomogeneous (all elements must be of the same type)\n",
        "Performance\t: Much faster and more memory-efficient\n",
        "Functionality\t: Supports advanced mathematical operations\n",
        "Memory Usage :\tStored in contiguous blocks (less overhead)\n",
        "Broadcasting Support : Supports broadcasting and vectorized operations\n",
        "Multi-dimensional :\tSupports n-dimensional arrays (ndarray)\n",
        "Operations\t: Element-wise operations (e.g., a + b)\n",
        "\n",
        "Python Lists (list)\n",
        "Data Type : Heterogeneous (can contain different data types)\n",
        "Performance : Slower due to dynamic typing and overhead\n",
        "Functionality : Limited to basic operations\n",
        "Memory Usage : Uses more memory due to element-wise references\n",
        "Broadcasting support : No broadcasting\n",
        "Multi-dimensional : Only supports nested lists for multidimensionality\n",
        "Operations : Requires loops for element-wise operations"
      ],
      "metadata": {
        "id": "0E_4kUM25wFN"
      }
    },
    {
      "cell_type": "markdown",
      "source": [
        "7. What is a heatmap, and when it should be used?\n",
        "\n",
        "A heatmap is a data visualization technique that uses color gradients to represent the magnitude or intensity of values in a matrix or 2D table. Each cell in the grid is colored based on its numerical value — darker or brighter shades indicate higher or lower values.\n",
        "\n",
        "When Should You Use a Heatmap?\n",
        "Heatmaps are ideal when you want to:\n",
        "\n",
        " 1. Visualize Correlations\n",
        "Show relationships between variables (e.g., correlation matrix).\n",
        "\n",
        " 2. Identify Patterns and Outliers\n",
        "Detect trends, clusters, or anomalies in a dataset (e.g., sales across regions and time).\n",
        "\n",
        " 3. Compare Values Across Categories\n",
        "Use color intensity to compare quantities like temperatures, ratings, or scores across categories.\n",
        "\n",
        " 4. Summarize Large Data Matrices\n",
        "Make dense numerical data more interpretable through visual encoding.\n",
        "\n"
      ],
      "metadata": {
        "id": "QeC-jiXG5wC0"
      }
    },
    {
      "cell_type": "markdown",
      "source": [
        "8. What does the term \"vectorized operation\" mean in NumPy?\n",
        "\n",
        "Vectorized Operation in NumPy refers to performing element-wise operations on entire arrays without using explicit loops.\n",
        "Instead of iterating over each element using a for loop (as you'd do in plain Python), NumPy performs the operation internally in optimized C code, making it much faster and more efficient."
      ],
      "metadata": {
        "id": "FAu8PgtI5v_T"
      }
    },
    {
      "cell_type": "markdown",
      "source": [
        "9. How does Matplotlib differ from plotly?\n",
        "\n",
        "Type :\tStatic plotting library\n",
        "Interactivity\t: Mostly static (unless using external tools)\n",
        "Ease of Use :\tMore code required for customization\n",
        "Output Format :\tPNG, PDF, SVG (static formats)\n",
        "Customization\t: Highly customizable but can be verbose\n",
        "Integration :\tWorks well with Jupyter Notebooks and backends\n",
        "Plot Types :\tBasic and scientific (line, bar, scatter, hist, etc.)\n",
        "\n",
        "Plotly\n",
        "Type : Interactive plotting library\n",
        "Interactivity : Fully interactive by default (hover, zoom, pan)\n",
        "Ease of Use : Cleaner syntax for complex interactive plots\n",
        "Output Format : HTML, JavaScript-based (web-friendly interactive plots)\n",
        "Customization : Easily customizable with fewer lines\n",
        "Integration : Ideal for dashboards (e.g., Dash) and web apps\n",
        "Plot types : Advanced (3D, heatmaps, maps, gauges, animations, etc.)"
      ],
      "metadata": {
        "id": "qRqzlGrw5v8n"
      }
    },
    {
      "cell_type": "markdown",
      "source": [
        "10. What is the significance of hierarchical indexing in Pandas?\n",
        "\n",
        "Hierarchical indexing (also known as multi-level indexing) in Pandas allows you to use multiple index levels (rows or columns) in a single DataFrame or Series. This enables you to work with higher-dimensional data in a 2D format.\n",
        "\n",
        "Significance and Benefits of Hierarchical Indexing:\n",
        "1. Handles Complex Data Naturally\n",
        "Enables you to store and manipulate data with multiple keys (like city and year, or region and product) without reshaping into a higher dimension.\n",
        "\n",
        "2. Improves Data Organization\n",
        "Groups related data together under multiple index levels, which improves clarity and allows nested relationships.\n",
        "\n",
        "3. Flexible Data Selection\n",
        "You can slice, filter, and aggregate data at any level of the hierarchy using loc[], xs(), or groupby().\n",
        "\n",
        "4. Efficient Aggregation\n",
        "Makes it easy to perform group-wise operations and aggregations at different levels.\n",
        "\n",
        "5. Pivoting and Reshaping\n",
        "Hierarchical indexing enables easy reshaping of data with stack(), unstack(), and pivot_table().\n",
        "\n"
      ],
      "metadata": {
        "id": "RC8tk9d-5v6L"
      }
    },
    {
      "cell_type": "markdown",
      "source": [
        "11. What is the role of seaborn's pairplot() function?\n",
        "\n",
        "The pairplot() function in Seaborn is used to visualize pairwise relationships between multiple variables in a dataset by creating a matrix of plots. It helps in exploratory data analysis by showing how variables relate to each other.\n",
        "\n",
        "What does it do :    \n",
        "Creates scatterplots for every pair of numeric variables.\n",
        "\n",
        "Shows histograms or kernel density estimates (KDE) on the diagonal for each variable’s distribution.\n",
        "\n",
        "Can color points by a categorical variable to reveal class-wise patterns.\n",
        "\n",
        "Helps identify correlations, clusters, trends, and potential outliers."
      ],
      "metadata": {
        "id": "2repxcWI5v3c"
      }
    },
    {
      "cell_type": "markdown",
      "source": [
        "12. What is the purpose of the describe () functions in Python?\n",
        "\n",
        "The describe() function in Pandas is used to generate summary statistics of a DataFrame or Series. It provides a quick overview of the distribution and central tendencies of numerical (and optionally categorical) data.\n",
        "\n",
        "What It Returns (for numeric data):\n",
        "count: Number of non-missing values\n",
        "\n",
        "mean: Average value\n",
        "\n",
        "std: Standard deviation (spread of data)\n",
        "\n",
        "min: Minimum value\n",
        "\n",
        "25%: 1st quartile (25th percentile)\n",
        "\n",
        "50%: Median (50th percentile)\n",
        "\n",
        "75%: 3rd quartile (75th percentile)\n",
        "\n",
        "max: Maximum value"
      ],
      "metadata": {
        "id": "paZvj1Hx5vwf"
      }
    },
    {
      "cell_type": "markdown",
      "source": [
        "13. Why is handling missing data important in Pandas?\n",
        "\n",
        "Accurate Analysis & Modeling\n",
        "Missing data can distort statistical calculations (like mean, median) and lead to biased or incorrect conclusions. Models trained on incomplete data may perform poorly or be unreliable.\n",
        "\n",
        "Avoid Errors & Crashes\n",
        "Many functions or algorithms cannot handle missing values (NaNs) and may raise errors or produce unexpected results if missing data is not addressed.\n",
        "\n",
        "Data Integrity\n",
        "Properly managing missing values ensures your dataset represents the true state of the data without gaps that might skew insights.\n",
        "\n",
        "Improves Data Quality\n",
        "Cleaning or imputing missing data increases the overall quality and usability of your dataset for analysis, visualization, and machine learning.\n",
        "\n",
        "Consistent Results\n",
        "Handling missing data consistently ensures that analyses and reports are repeatable and reliable."
      ],
      "metadata": {
        "id": "Uma_xrLa5vjS"
      }
    },
    {
      "cell_type": "markdown",
      "source": [
        "14. What are the benefits of using Plotly for data visualization?\n",
        "\n",
        "1. Interactive Visualizations :\n",
        "Plotly creates highly interactive charts with built-in zoom, pan, hover tooltips, and clickable legends, which help users explore data dynamically.\n",
        "\n",
        "2. Wide Range of Chart Types :\n",
        "Supports many advanced charts like 3D plots, geographic maps, heatmaps, contour plots, funnel charts, and animations, beyond basic charts like line, bar, and scatter.\n",
        "\n",
        "3. Easy Integration with Web and Dashboards :\n",
        "Plotly charts can be embedded in web applications, Jupyter notebooks, and dashboards (especially with Dash framework), making them great for sharing and live data monitoring.\n",
        "\n",
        "4. Cross-platform and Web-friendly :\n",
        "Visualizations are rendered using JavaScript (D3.js), so they are web-native and work seamlessly on browsers without additional plugins.\n",
        "\n",
        "5. Declarative Syntax with Plotly Express :\n",
        "Provides a simple, concise API (plotly.express) that allows quick creation of complex visualizations with minimal code.\n",
        "\n",
        "6. Customizability :\n",
        "Offers extensive customization of every element — colors, layout, axes, annotations, and interactivity.\n",
        "\n",
        "7. Open Source with Commercial Support :\n",
        "Core library is free and open-source, with enterprise options available for advanced features.\n",
        "\n"
      ],
      "metadata": {
        "id": "PDZybTZE5vLX"
      }
    },
    {
      "cell_type": "markdown",
      "source": [
        "15. How does NumPy handle multidimensional arrays?\n",
        "\n",
        "NumPy’s core data structure is the ndarray (N-dimensional array), which can represent arrays of any number of dimensions, such as 1D (vectors), 2D (matrices), 3D (tensors), and beyond.\n",
        "\n",
        " Key Features\n",
        "\n",
        " Shape:\n",
        "The shape attribute is a tuple that specifies the size of the array along each dimension. For example, a 3x4 matrix has shape (3, 4).\n",
        "\n",
        "Indexing:\n",
        "You can access elements using multiple indices, e.g., arr[2, 3] accesses the element in row 2, column 3.\n",
        "\n",
        "Slicing:\n",
        "Supports slicing across any dimension, e.g., arr[:, 1:4] slices all rows but columns 1 to 3.\n",
        "\n",
        "Broadcasting:\n",
        "Operations can be performed on arrays with compatible but different shapes, enabling flexible arithmetic without explicit looping.\n",
        "\n",
        "Efficient Storage:\n",
        "Data is stored in a contiguous block of memory for fast access and computation.\n",
        "\n"
      ],
      "metadata": {
        "id": "HCwvGlomDJLA"
      }
    },
    {
      "cell_type": "markdown",
      "source": [
        "16. What is the role of Bokeh in data visualization?\n",
        "\n",
        "Bokeh is a Python library designed for creating interactive, web-based visualizations that can easily be embedded into web applications and dashboards.\n",
        "\n",
        "Key Features and Role:\n",
        "\n",
        "Interactive Plots for the Web :\n",
        "Bokeh produces rich, interactive visualizations with tools like zooming, panning, tooltips, and selection widgets — all rendered in modern web browsers using JavaScript.\n",
        "\n",
        "Highly Customizable and Flexible :\n",
        "It offers fine control over plot elements and supports complex layouts and linked plots, enabling sophisticated dashboards and data exploration tools.\n",
        "\n",
        "Integration with Web Frameworks :\n",
        "Bokeh can be embedded in Flask, Django, or other web apps and works well with Jupyter notebooks, allowing easy sharing of interactive graphics.\n",
        "\n",
        "Streaming and Real-Time Data :\n",
        "Supports updating plots dynamically in real-time, which is useful for live data dashboards.\n",
        "\n",
        "Wide Range of Plot Types :\n",
        "Supports standard charts (line, bar, scatter), as well as advanced plots like heatmaps, network graphs, and geographic maps."
      ],
      "metadata": {
        "id": "kj-eDz66D7ep"
      }
    },
    {
      "cell_type": "markdown",
      "source": [
        "17. Explain the difference between apply() and map() in Pandas?\n",
        "\n",
        "apply()\n",
        "Applicable to\t: Both Series and DataFrames\n",
        "Purpose :\tApply a function along axis (rows/columns) or element-wise\n",
        "Function Input\t: Can accept functions that operate on entire rows, columns, or individual elements\n",
        "Supports :\tComplex operations (aggregations, transformations)\n",
        "Typical Use Cases :\tApply custom functions across rows/columns; e.g., calculating row sums, conditional transformations\n",
        "\n",
        "map()\n",
        "Applicable to : Only Series\n",
        "Purpose : Map values of a Series according to input correspondence\n",
        "Function Input : Mainly used for element-wise mapping of values\n",
        "Supports : Simple element-wise transformations, value replacements\n",
        "Typlical Use Cases : Map values using dict, Series, or a function; e.g., value replacements or label encoding\n"
      ],
      "metadata": {
        "id": "x4iA9oeeEbLz"
      }
    },
    {
      "cell_type": "markdown",
      "source": [
        "18. What are some advanced features of NumPy?\n",
        "\n",
        "Advanced Features of NumPy :    \n",
        "Broadcasting :    \n",
        "Allows arithmetic operations on arrays of different shapes without explicit replication, enabling efficient vectorized computations.\n",
        "\n",
        "Structured Arrays / Record Arrays :      \n",
        "Support for heterogeneous data types within a single array, similar to rows in a database table or DataFrame.\n",
        "\n",
        "Masked Arrays :     \n",
        "Arrays that can handle invalid or missing data by masking elements, useful for computations ignoring certain values.\n",
        "\n",
        "Universal Functions (ufuncs) :      \n",
        "Highly optimized functions that operate element-wise on arrays, supporting vectorized operations with optional broadcasting.\n",
        "\n",
        "Memory Mapping :      \n",
        "Efficiently work with large datasets stored on disk by mapping them into memory without loading everything at once.\n",
        "\n",
        "Fancy Indexing and Boolean Masking :      \n",
        "Powerful indexing techniques to select and manipulate subsets of arrays based on complex conditions or index arrays.\n",
        "\n",
        "Linear Algebra Module (numpy.linalg) :     \n",
        "Provides advanced linear algebra operations like matrix decompositions (SVD, QR), eigenvalues, and solving linear systems.\n",
        "\n",
        "FFT (Fast Fourier Transform) :      \n",
        "Functions to perform Fourier transforms, essential in signal processing and data analysis.\n",
        "\n"
      ],
      "metadata": {
        "id": "ezso3nM7Fq7F"
      }
    },
    {
      "cell_type": "markdown",
      "source": [
        "19. How does Pandas simplify time series analysis?\n",
        "\n",
        "1. DateTime Indexing and Resampling :    \n",
        "Supports DatetimeIndex for easy slicing and filtering by dates or times.\n",
        "\n",
        "Resample data to different frequencies (e.g., daily to monthly) with .resample().\n",
        "\n",
        "2. Time-based Grouping and Window Functions :       \n",
        "Group data by time intervals (day, month, year).\n",
        "\n",
        "Rolling and expanding window calculations for moving averages, sums, etc.\n",
        "\n",
        "3. Handling Time Zones and Frequencies :        \n",
        "Convert between time zones easily with .tz_localize() and .tz_convert().\n",
        "\n",
        "Specify and manipulate data frequency (daily, hourly, business days).\n",
        "\n",
        "4. Parsing Dates and Time Data :         \n",
        "Read and convert strings to datetime objects seamlessly (pd.to_datetime()).\n",
        "\n",
        "5. Shifting and Lagging Data :                 \n",
        "Use .shift() to create lagged versions of data for time series modeling.\n",
        "\n",
        "6. Handling Missing Time Data :              \n",
        "Fill or interpolate missing time points with .fillna(), .interpolate().\n",
        "\n",
        "7. Date and Time Component Access :             \n",
        "Easily extract year, month, day, hour, minute, second, weekday, etc.\n",
        "\n"
      ],
      "metadata": {
        "id": "sca9oziJFr5a"
      }
    },
    {
      "cell_type": "markdown",
      "source": [
        "20. What is the role of pivot table in Pandas?\n",
        "\n",
        "A pivot table in Pandas is used to summarize and aggregate data in a flexible way, similar to Excel pivot tables. It restructures data by grouping it according to one or more keys (rows and columns) and applying aggregate functions to the grouped data.\n",
        "\n",
        "Key Purposes:\n",
        "Data Summarization: Quickly compute aggregates (like sum, mean, count) for subsets of data.\n",
        "\n",
        "Reshape Data: Convert long-form data into a wide-format table for easier analysis.\n",
        "\n",
        "Multi-dimensional Grouping: Group data by multiple variables simultaneously.\n",
        "\n",
        "Easy to Analyze: Helps identify patterns, trends, and comparisons across categories.\n",
        "\n"
      ],
      "metadata": {
        "id": "RlFRtHw6FrhC"
      }
    },
    {
      "cell_type": "markdown",
      "source": [
        "21.  Why is NumPy's array slicing faster than Pythons list slicing?\n",
        "\n",
        "Contiguous Memory Storage\n",
        "NumPy arrays store elements in continuous blocks of memory, allowing fast access and slicing via simple pointer arithmetic. Python lists store references to objects scattered across memory, making slicing slower.\n",
        "\n",
        "Homogeneous Data Types\n",
        "NumPy arrays hold elements of the same data type, enabling optimized, low-level operations. Python lists can contain mixed types, requiring extra checks and overhead during slicing.\n",
        "\n",
        "View vs Copy\n",
        "NumPy slicing generally returns a view of the original array (no data copied), making it very fast and memory efficient. Python list slicing creates a new copy, which involves more time and memory.\n",
        "\n",
        "Vectorized Operations and Optimized C Implementation\n",
        "NumPy is implemented in C and optimized for numerical operations, which boosts speed for slicing and subsequent processing."
      ],
      "metadata": {
        "id": "exI3HPigHLwc"
      }
    },
    {
      "cell_type": "markdown",
      "source": [
        "22. What are some common use cases for seaborn?\n",
        "\n",
        "Exploratory Data Analysis (EDA) :     \n",
        "Quickly visualize data distributions, relationships, and patterns using histograms, boxplots, violin plots, and scatterplots.\n",
        "\n",
        "Statistical Visualization :               \n",
        "Plot statistical summaries with confidence intervals, regression lines (lmplot), categorical comparisons (barplot, countplot), and distribution fitting (distplot).\n",
        "\n",
        "Visualizing Relationships Between Variables :          \n",
        "Use pairplot for pairwise relationships, heatmap for correlation matrices, and jointplot for bivariate analysis.\n",
        "\n",
        "Categorical Data Visualization :                 \n",
        "Show differences across categories with boxplot, violinplot, stripplot, and swarmplot.\n",
        "\n",
        "Time Series and Trends :                 \n",
        "Plot trends over time with lineplot and visualize seasonal patterns.\n",
        "\n",
        "Multivariate Data Visualization :               \n",
        "Combine multiple variables and hue/grouping to reveal complex interactions.\n",
        "\n",
        "Correlation and Heatmaps :             \n",
        "Visualize correlation matrices or any tabular data using color-coded heatmaps.\n",
        "\n",
        "Publication-quality Plots :               \n",
        "Create aesthetically pleasing and informative plots for reports and presentations with minimal customization.\n",
        "\n"
      ],
      "metadata": {
        "id": "tC0aGWYsHtJq"
      }
    },
    {
      "cell_type": "markdown",
      "source": [
        "PRACTICAL"
      ],
      "metadata": {
        "id": "ygi6-p7FvOYk"
      }
    },
    {
      "cell_type": "code",
      "execution_count": null,
      "metadata": {
        "id": "ygtdtkrR5Zlr",
        "colab": {
          "base_uri": "https://localhost:8080/"
        },
        "outputId": "58d9dcc7-590d-435e-f8cb-32464bad7e4a"
      },
      "outputs": [
        {
          "output_type": "stream",
          "name": "stdout",
          "text": [
            "Array:\n",
            " [[1 2 3]\n",
            " [4 5 6]\n",
            " [7 8 9]]\n",
            "Sum of each row: [ 6 15 24]\n"
          ]
        }
      ],
      "source": [
        "#1. How do you create a 2D NumPy array and calculate the sum of each row?\n",
        "\n",
        "import numpy as np\n",
        "\n",
        "# Create a 2D NumPy array\n",
        "arr = np.array([[1, 2, 3],\n",
        "                [4, 5, 6],\n",
        "                [7, 8, 9]])\n",
        "\n",
        "# Calculate the sum of each row\n",
        "row_sums = np.sum(arr, axis=1)\n",
        "\n",
        "print(\"Array:\\n\", arr)\n",
        "print(\"Sum of each row:\", row_sums)"
      ]
    },
    {
      "cell_type": "code",
      "source": [
        "#2. Write a Pandas script to find the mean of a specific column in a DataFrame?\n",
        "\n",
        "import pandas as pd\n",
        "\n",
        "# Create a sample DataFrame\n",
        "data = {\n",
        "    'Name': ['Alice', 'Bob', 'Charlie', 'David'],\n",
        "    'Age': [25, 30, 35, 40],\n",
        "    'Salary': [50000, 60000, 70000, 80000]\n",
        "}\n",
        "\n",
        "df = pd.DataFrame(data)\n",
        "\n",
        "# Find the mean of a specific column (e.g., 'Salary')\n",
        "mean_salary = df['Salary'].mean()\n",
        "\n",
        "print(\"Mean Salary:\", mean_salary)\n"
      ],
      "metadata": {
        "id": "tTEWf1qF5uJy",
        "colab": {
          "base_uri": "https://localhost:8080/"
        },
        "outputId": "ccc845f7-ae83-47db-cea2-cfef42deb175"
      },
      "execution_count": null,
      "outputs": [
        {
          "output_type": "stream",
          "name": "stdout",
          "text": [
            "Mean Salary: 65000.0\n"
          ]
        }
      ]
    },
    {
      "cell_type": "code",
      "source": [
        "#3. Create a scatter plot using Matplotlib?\n",
        "\n",
        "import matplotlib.pyplot as plt\n",
        "\n",
        "# Sample data\n",
        "x = [5, 7, 8, 7, 6, 9, 5, 3, 4, 9]\n",
        "y = [99, 86, 87, 88, 100, 86, 103, 87, 94, 78]\n",
        "\n",
        "# Create scatter plot\n",
        "plt.scatter(x, y, color='blue', marker='o')\n",
        "\n",
        "# Add labels and title\n",
        "plt.xlabel('X Axis Values')\n",
        "plt.ylabel('Y Axis Values')\n",
        "plt.title('Simple Scatter Plot')\n",
        "\n",
        "# Show plot\n",
        "plt.show()\n"
      ],
      "metadata": {
        "colab": {
          "base_uri": "https://localhost:8080/",
          "height": 472
        },
        "id": "fTLI1h7Kwb-o",
        "outputId": "b8a70f32-34ba-4ef6-c9aa-a3ad8b8da294"
      },
      "execution_count": null,
      "outputs": [
        {
          "output_type": "display_data",
          "data": {
            "text/plain": [
              "<Figure size 640x480 with 1 Axes>"
            ],
            "image/png": "[encoded data removed]"
          },
          "metadata": {}
        }
      ]
    },
    {
      "cell_type": "code",
      "source": [
        "#4.  How do you calculate the correlation matrix using Seaborn and visualize it with a heatmap?\n",
        "\n",
        "import pandas as pd\n",
        "import seaborn as sns\n",
        "import matplotlib.pyplot as plt\n",
        "\n",
        "# Create a sample DataFrame\n",
        "data = {\n",
        "    'Math': [88, 92, 80, 89, 100],\n",
        "    'Science': [78, 85, 82, 90, 94],\n",
        "    'English': [90, 88, 85, 87, 93]\n",
        "}\n",
        "\n",
        "df = pd.DataFrame(data)\n",
        "\n",
        "# Calculate the correlation matrix\n",
        "correlation_matrix = df.corr()\n",
        "\n",
        "# Plot heatmap\n",
        "sns.heatmap(correlation_matrix, annot=True, cmap='coolwarm', linewidths=0.5)\n",
        "\n",
        "plt.title(\"Correlation Matrix Heatmap\")\n",
        "plt.show()"
      ],
      "metadata": {
        "colab": {
          "base_uri": "https://localhost:8080/",
          "height": 452
        },
        "id": "O97s6khYxNnU",
        "outputId": "01b443bf-50ec-440a-f95c-cd75586a4b30"
      },
      "execution_count": null,
      "outputs": [
        {
          "output_type": "display_data",
          "data": {
            "text/plain": [
              "<Figure size 640x480 with 2 Axes>"
            ],
            "image/png": "[encoded data removed]"
          },
          "metadata": {}
        }
      ]
    },
    {
      "cell_type": "code",
      "source": [
        "#5. A Generate a bar plot using Plotly?\n",
        "\n",
        "import plotly.express as px\n",
        "import pandas as pd\n",
        "\n",
        "# Sample data\n",
        "data = {\n",
        "    'City': ['Delhi', 'Mumbai', 'Chennai', 'Kolkata'],\n",
        "    'Population': [32000000, 21000000, 11000000, 15000000]\n",
        "}\n",
        "\n",
        "df = pd.DataFrame(data)\n",
        "\n",
        "# Create bar plot\n",
        "fig = px.bar(df, x='City', y='Population', title='Population of Cities', color='City')\n",
        "\n",
        "# Show plot\n",
        "fig.show()"
      ],
      "metadata": {
        "colab": {
          "base_uri": "https://localhost:8080/",
          "height": 542
        },
        "id": "1S4yX0Ncxd_v",
        "outputId": "33824fdc-fefd-4bf4-826b-90459a44977e"
      },
      "execution_count": null,
      "outputs": [
        {
          "output_type": "display_data",
          "data": {
            "text/html": [
              "<html>\n",
              "<head><meta charset=\"utf-8\" /></head>\n",
              "<body>\n",
              "    <div>            <script src=\"https://cdnjs.cloudflare.com/ajax/libs/mathjax/2.7.5/MathJax.js?config=TeX-AMS-MML_SVG\"></script><script type=\"text/javascript\">if (window.MathJax && window.MathJax.Hub && window.MathJax.Hub.Config) {window.MathJax.Hub.Config({SVG: {font: \"STIX-Web\"}});}</script>                <script type=\"text/javascript\">window.PlotlyConfig = {MathJaxConfig: 'local'};</script>\n",
              "        <script charset=\"utf-8\" src=\"https://cdn.plot.ly/plotly-2.35.2.min.js\"></script>                <div id=\"0b4431bb-5bbf-4bbc-bf1e-f81cca4ad8de\" class=\"plotly-graph-div\" style=\"height:525px; width:100%;\"></div>            <script type=\"text/javascript\">                                    window.PLOTLYENV=window.PLOTLYENV || {};                                    if (document.getElementById(\"0b4431bb-5bbf-4bbc-bf1e-f81cca4ad8de\")) {                    Plotly.newPlot(                        \"0b4431bb-5bbf-4bbc-bf1e-f81cca4ad8de\",                        [{\"alignmentgroup\":\"True\",\"hovertemplate\":\"City=%{x}\\u003cbr\\u003ePopulation=%{y}\\u003cextra\\u003e\\u003c\\u002fextra\\u003e\",\"legendgroup\":\"Delhi\",\"marker\":{\"color\":\"#636efa\",\"pattern\":{\"shape\":\"\"}},\"name\":\"Delhi\",\"offsetgroup\":\"Delhi\",\"orientation\":\"v\",\"showlegend\":true,\"textposition\":\"auto\",\"x\":[\"Delhi\"],\"xaxis\":\"x\",\"y\":[32000000],\"yaxis\":\"y\",\"type\":\"bar\"},{\"alignmentgroup\":\"True\",\"hovertemplate\":\"City=%{x}\\u003cbr\\u003ePopulation=%{y}\\u003cextra\\u003e\\u003c\\u002fextra\\u003e\",\"legendgroup\":\"Mumbai\",\"marker\":{\"color\":\"#EF553B\",\"pattern\":{\"shape\":\"\"}},\"name\":\"Mumbai\",\"offsetgroup\":\"Mumbai\",\"orientation\":\"v\",\"showlegend\":true,\"textposition\":\"auto\",\"x\":[\"Mumbai\"],\"xaxis\":\"x\",\"y\":[21000000],\"yaxis\":\"y\",\"type\":\"bar\"},{\"alignmentgroup\":\"True\",\"hovertemplate\":\"City=%{x}\\u003cbr\\u003ePopulation=%{y}\\u003cextra\\u003e\\u003c\\u002fextra\\u003e\",\"legendgroup\":\"Chennai\",\"marker\":{\"color\":\"#00cc96\",\"pattern\":{\"shape\":\"\"}},\"name\":\"Chennai\",\"offsetgroup\":\"Chennai\",\"orientation\":\"v\",\"showlegend\":true,\"textposition\":\"auto\",\"x\":[\"Chennai\"],\"xaxis\":\"x\",\"y\":[11000000],\"yaxis\":\"y\",\"type\":\"bar\"},{\"alignmentgroup\":\"True\",\"hovertemplate\":\"City=%{x}\\u003cbr\\u003ePopulation=%{y}\\u003cextra\\u003e\\u003c\\u002fextra\\u003e\",\"legendgroup\":\"Kolkata\",\"marker\":{\"color\":\"#ab63fa\",\"pattern\":{\"shape\":\"\"}},\"name\":\"Kolkata\",\"offsetgroup\":\"Kolkata\",\"orientation\":\"v\",\"showlegend\":true,\"textposition\":\"auto\",\"x\":[\"Kolkata\"],\"xaxis\":\"x\",\"y\":[15000000],\"yaxis\":\"y\",\"type\":\"bar\"}],                        {\"template\":{\"data\":{\"histogram2dcontour\":[{\"type\":\"histogram2dcontour\",\"colorbar\":{\"outlinewidth\":0,\"ticks\":\"\"},\"colorscale\":[[0.0,\"#0d0887\"],[0.1111111111111111,\"#46039f\"],[0.2222222222222222,\"#7201a8\"],[0.3333333333333333,\"#9c179e\"],[0.4444444444444444,\"#bd3786\"],[0.5555555555555556,\"#d8576b\"],[0.6666666666666666,\"#ed7953\"],[0.7777777777777778,\"#fb9f3a\"],[0.8888888888888888,\"#fdca26\"],[1.0,\"#f0f921\"]]}],\"choropleth\":[{\"type\":\"choropleth\",\"colorbar\":{\"outlinewidth\":0,\"ticks\":\"\"}}],\"histogram2d\":[{\"type\":\"histogram2d\",\"colorbar\":{\"outlinewidth\":0,\"ticks\":\"\"},\"colorscale\":[[0.0,\"#0d0887\"],[0.1111111111111111,\"#46039f\"],[0.2222222222222222,\"#7201a8\"],[0.3333333333333333,\"#9c179e\"],[0.4444444444444444,\"#bd3786\"],[0.5555555555555556,\"#d8576b\"],[0.6666666666666666,\"#ed7953\"],[0.7777777777777778,\"#fb9f3a\"],[0.8888888888888888,\"#fdca26\"],[1.0,\"#f0f921\"]]}],\"heatmap\":[{\"type\":\"heatmap\",\"colorbar\":{\"outlinewidth\":0,\"ticks\":\"\"},\"colorscale\":[[0.0,\"#0d0887\"],[0.1111111111111111,\"#46039f\"],[0.2222222222222222,\"#7201a8\"],[0.3333333333333333,\"#9c179e\"],[0.4444444444444444,\"#bd3786\"],[0.5555555555555556,\"#d8576b\"],[0.6666666666666666,\"#ed7953\"],[0.7777777777777778,\"#fb9f3a\"],[0.8888888888888888,\"#fdca26\"],[1.0,\"#f0f921\"]]}],\"heatmapgl\":[{\"type\":\"heatmapgl\",\"colorbar\":{\"outlinewidth\":0,\"ticks\":\"\"},\"colorscale\":[[0.0,\"#0d0887\"],[0.1111111111111111,\"#46039f\"],[0.2222222222222222,\"#7201a8\"],[0.3333333333333333,\"#9c179e\"],[0.4444444444444444,\"#bd3786\"],[0.5555555555555556,\"#d8576b\"],[0.6666666666666666,\"#ed7953\"],[0.7777777777777778,\"#fb9f3a\"],[0.8888888888888888,\"#fdca26\"],[1.0,\"#f0f921\"]]}],\"contourcarpet\":[{\"type\":\"contourcarpet\",\"colorbar\":{\"outlinewidth\":0,\"ticks\":\"\"}}],\"contour\":[{\"type\":\"contour\",\"colorbar\":{\"outlinewidth\":0,\"ticks\":\"\"},\"colorscale\":[[0.0,\"#0d0887\"],[0.1111111111111111,\"#46039f\"],[0.2222222222222222,\"#7201a8\"],[0.3333333333333333,\"#9c179e\"],[0.4444444444444444,\"#bd3786\"],[0.5555555555555556,\"#d8576b\"],[0.6666666666666666,\"#ed7953\"],[0.7777777777777778,\"#fb9f3a\"],[0.8888888888888888,\"#fdca26\"],[1.0,\"#f0f921\"]]}],\"surface\":[{\"type\":\"surface\",\"colorbar\":{\"outlinewidth\":0,\"ticks\":\"\"},\"colorscale\":[[0.0,\"#0d0887\"],[0.1111111111111111,\"#46039f\"],[0.2222222222222222,\"#7201a8\"],[0.3333333333333333,\"#9c179e\"],[0.4444444444444444,\"#bd3786\"],[0.5555555555555556,\"#d8576b\"],[0.6666666666666666,\"#ed7953\"],[0.7777777777777778,\"#fb9f3a\"],[0.8888888888888888,\"#fdca26\"],[1.0,\"#f0f921\"]]}],\"mesh3d\":[{\"type\":\"mesh3d\",\"colorbar\":{\"outlinewidth\":0,\"ticks\":\"\"}}],\"scatter\":[{\"fillpattern\":{\"fillmode\":\"overlay\",\"size\":10,\"solidity\":0.2},\"type\":\"scatter\"}],\"parcoords\":[{\"type\":\"parcoords\",\"line\":{\"colorbar\":{\"outlinewidth\":0,\"ticks\":\"\"}}}],\"scatterpolargl\":[{\"type\":\"scatterpolargl\",\"marker\":{\"colorbar\":{\"outlinewidth\":0,\"ticks\":\"\"}}}],\"bar\":[{\"error_x\":{\"color\":\"#2a3f5f\"},\"error_y\":{\"color\":\"#2a3f5f\"},\"marker\":{\"line\":{\"color\":\"#E5ECF6\",\"width\":0.5},\"pattern\":{\"fillmode\":\"overlay\",\"size\":10,\"solidity\":0.2}},\"type\":\"bar\"}],\"scattergeo\":[{\"type\":\"scattergeo\",\"marker\":{\"colorbar\":{\"outlinewidth\":0,\"ticks\":\"\"}}}],\"scatterpolar\":[{\"type\":\"scatterpolar\",\"marker\":{\"colorbar\":{\"outlinewidth\":0,\"ticks\":\"\"}}}],\"histogram\":[{\"marker\":{\"pattern\":{\"fillmode\":\"overlay\",\"size\":10,\"solidity\":0.2}},\"type\":\"histogram\"}],\"scattergl\":[{\"type\":\"scattergl\",\"marker\":{\"colorbar\":{\"outlinewidth\":0,\"ticks\":\"\"}}}],\"scatter3d\":[{\"type\":\"scatter3d\",\"line\":{\"colorbar\":{\"outlinewidth\":0,\"ticks\":\"\"}},\"marker\":{\"colorbar\":{\"outlinewidth\":0,\"ticks\":\"\"}}}],\"scattermapbox\":[{\"type\":\"scattermapbox\",\"marker\":{\"colorbar\":{\"outlinewidth\":0,\"ticks\":\"\"}}}],\"scatterternary\":[{\"type\":\"scatterternary\",\"marker\":{\"colorbar\":{\"outlinewidth\":0,\"ticks\":\"\"}}}],\"scattercarpet\":[{\"type\":\"scattercarpet\",\"marker\":{\"colorbar\":{\"outlinewidth\":0,\"ticks\":\"\"}}}],\"carpet\":[{\"aaxis\":{\"endlinecolor\":\"#2a3f5f\",\"gridcolor\":\"white\",\"linecolor\":\"white\",\"minorgridcolor\":\"white\",\"startlinecolor\":\"#2a3f5f\"},\"baxis\":{\"endlinecolor\":\"#2a3f5f\",\"gridcolor\":\"white\",\"linecolor\":\"white\",\"minorgridcolor\":\"white\",\"startlinecolor\":\"#2a3f5f\"},\"type\":\"carpet\"}],\"table\":[{\"cells\":{\"fill\":{\"color\":\"#EBF0F8\"},\"line\":{\"color\":\"white\"}},\"header\":{\"fill\":{\"color\":\"#C8D4E3\"},\"line\":{\"color\":\"white\"}},\"type\":\"table\"}],\"barpolar\":[{\"marker\":{\"line\":{\"color\":\"#E5ECF6\",\"width\":0.5},\"pattern\":{\"fillmode\":\"overlay\",\"size\":10,\"solidity\":0.2}},\"type\":\"barpolar\"}],\"pie\":[{\"automargin\":true,\"type\":\"pie\"}]},\"layout\":{\"autotypenumbers\":\"strict\",\"colorway\":[\"#636efa\",\"#EF553B\",\"#00cc96\",\"#ab63fa\",\"#FFA15A\",\"#19d3f3\",\"#FF6692\",\"#B6E880\",\"#FF97FF\",\"#FECB52\"],\"font\":{\"color\":\"#2a3f5f\"},\"hovermode\":\"closest\",\"hoverlabel\":{\"align\":\"left\"},\"paper_bgcolor\":\"white\",\"plot_bgcolor\":\"#E5ECF6\",\"polar\":{\"bgcolor\":\"#E5ECF6\",\"angularaxis\":{\"gridcolor\":\"white\",\"linecolor\":\"white\",\"ticks\":\"\"},\"radialaxis\":{\"gridcolor\":\"white\",\"linecolor\":\"white\",\"ticks\":\"\"}},\"ternary\":{\"bgcolor\":\"#E5ECF6\",\"aaxis\":{\"gridcolor\":\"white\",\"linecolor\":\"white\",\"ticks\":\"\"},\"baxis\":{\"gridcolor\":\"white\",\"linecolor\":\"white\",\"ticks\":\"\"},\"caxis\":{\"gridcolor\":\"white\",\"linecolor\":\"white\",\"ticks\":\"\"}},\"coloraxis\":{\"colorbar\":{\"outlinewidth\":0,\"ticks\":\"\"}},\"colorscale\":{\"sequential\":[[0.0,\"#0d0887\"],[0.1111111111111111,\"#46039f\"],[0.2222222222222222,\"#7201a8\"],[0.3333333333333333,\"#9c179e\"],[0.4444444444444444,\"#bd3786\"],[0.5555555555555556,\"#d8576b\"],[0.6666666666666666,\"#ed7953\"],[0.7777777777777778,\"#fb9f3a\"],[0.8888888888888888,\"#fdca26\"],[1.0,\"#f0f921\"]],\"sequentialminus\":[[0.0,\"#0d0887\"],[0.1111111111111111,\"#46039f\"],[0.2222222222222222,\"#7201a8\"],[0.3333333333333333,\"#9c179e\"],[0.4444444444444444,\"#bd3786\"],[0.5555555555555556,\"#d8576b\"],[0.6666666666666666,\"#ed7953\"],[0.7777777777777778,\"#fb9f3a\"],[0.8888888888888888,\"#fdca26\"],[1.0,\"#f0f921\"]],\"diverging\":[[0,\"#8e0152\"],[0.1,\"#c51b7d\"],[0.2,\"#de77ae\"],[0.3,\"#f1b6da\"],[0.4,\"#fde0ef\"],[0.5,\"#f7f7f7\"],[0.6,\"#e6f5d0\"],[0.7,\"#b8e186\"],[0.8,\"#7fbc41\"],[0.9,\"#4d9221\"],[1,\"#276419\"]]},\"xaxis\":{\"gridcolor\":\"white\",\"linecolor\":\"white\",\"ticks\":\"\",\"title\":{\"standoff\":15},\"zerolinecolor\":\"white\",\"automargin\":true,\"zerolinewidth\":2},\"yaxis\":{\"gridcolor\":\"white\",\"linecolor\":\"white\",\"ticks\":\"\",\"title\":{\"standoff\":15},\"zerolinecolor\":\"white\",\"automargin\":true,\"zerolinewidth\":2},\"scene\":{\"xaxis\":{\"backgroundcolor\":\"#E5ECF6\",\"gridcolor\":\"white\",\"linecolor\":\"white\",\"showbackground\":true,\"ticks\":\"\",\"zerolinecolor\":\"white\",\"gridwidth\":2},\"yaxis\":{\"backgroundcolor\":\"#E5ECF6\",\"gridcolor\":\"white\",\"linecolor\":\"white\",\"showbackground\":true,\"ticks\":\"\",\"zerolinecolor\":\"white\",\"gridwidth\":2},\"zaxis\":{\"backgroundcolor\":\"#E5ECF6\",\"gridcolor\":\"white\",\"linecolor\":\"white\",\"showbackground\":true,\"ticks\":\"\",\"zerolinecolor\":\"white\",\"gridwidth\":2}},\"shapedefaults\":{\"line\":{\"color\":\"#2a3f5f\"}},\"annotationdefaults\":{\"arrowcolor\":\"#2a3f5f\",\"arrowhead\":0,\"arrowwidth\":1},\"geo\":{\"bgcolor\":\"white\",\"landcolor\":\"#E5ECF6\",\"subunitcolor\":\"white\",\"showland\":true,\"showlakes\":true,\"lakecolor\":\"white\"},\"title\":{\"x\":0.05},\"mapbox\":{\"style\":\"light\"}}},\"xaxis\":{\"anchor\":\"y\",\"domain\":[0.0,1.0],\"title\":{\"text\":\"City\"},\"categoryorder\":\"array\",\"categoryarray\":[\"Delhi\",\"Mumbai\",\"Chennai\",\"Kolkata\"]},\"yaxis\":{\"anchor\":\"x\",\"domain\":[0.0,1.0],\"title\":{\"text\":\"Population\"}},\"legend\":{\"title\":{\"text\":\"City\"},\"tracegroupgap\":0},\"title\":{\"text\":\"Population of Cities\"},\"barmode\":\"relative\"},                        {\"responsive\": true}                    ).then(function(){\n",
              "                            \n",
              "var gd = document.getElementById('0b4431bb-5bbf-4bbc-bf1e-f81cca4ad8de');\n",
              "var x = new MutationObserver(function (mutations, observer) {{\n",
              "        var display = window.getComputedStyle(gd).display;\n",
              "        if (!display || display === 'none') {{\n",
              "            console.log([gd, 'removed!']);\n",
              "            Plotly.purge(gd);\n",
              "            observer.disconnect();\n",
              "        }}\n",
              "}});\n",
              "\n",
              "// Listen for the removal of the full notebook cells\n",
              "var notebookContainer = gd.closest('#notebook-container');\n",
              "if (notebookContainer) {{\n",
              "    x.observe(notebookContainer, {childList: true});\n",
              "}}\n",
              "\n",
              "// Listen for the clearing of the current output cell\n",
              "var outputEl = gd.closest('.output');\n",
              "if (outputEl) {{\n",
              "    x.observe(outputEl, {childList: true});\n",
              "}}\n",
              "\n",
              "                        })                };                            </script>        </div>\n",
              "</body>\n",
              "</html>"
            ]
          },
          "metadata": {}
        }
      ]
    },
    {
      "cell_type": "code",
      "source": [
        "#6.  Create a DataFrame and add a new column based on an existing column?\n",
        "\n",
        "import pandas as pd\n",
        "\n",
        "# Create a sample DataFrame\n",
        "data = {\n",
        "    'Name': ['Alice', 'Bob', 'Charlie', 'David'],\n",
        "    'Marks': [85, 92, 78, 95]\n",
        "}\n",
        "\n",
        "df = pd.DataFrame(data)\n",
        "\n",
        "# Add a new column 'Result' based on 'Marks'\n",
        "df['Result'] = df['Marks'].apply(lambda x: 'Pass' if x >= 80 else 'Fail')\n",
        "\n",
        "print(df)"
      ],
      "metadata": {
        "colab": {
          "base_uri": "https://localhost:8080/"
        },
        "id": "ASVt0KFXxnoL",
        "outputId": "f1184ac3-1ca3-41b5-8e55-5d24466b253f"
      },
      "execution_count": null,
      "outputs": [
        {
          "output_type": "stream",
          "name": "stdout",
          "text": [
            "      Name  Marks Result\n",
            "0    Alice     85   Pass\n",
            "1      Bob     92   Pass\n",
            "2  Charlie     78   Fail\n",
            "3    David     95   Pass\n"
          ]
        }
      ]
    },
    {
      "cell_type": "code",
      "source": [
        "#7. Write a program to perform element-wise multiplication of two NumPy arrays?\n",
        "\n",
        "import numpy as np\n",
        "\n",
        "# Create two NumPy arrays\n",
        "arr1 = np.array([1, 2, 3, 4])\n",
        "arr2 = np.array([5, 6, 7, 8])\n",
        "\n",
        "# Element-wise multiplication\n",
        "result = arr1 * arr2   # or np.multiply(arr1, arr2)\n",
        "\n",
        "print(\"Array 1:\", arr1)\n",
        "print(\"Array 2:\", arr2)\n",
        "print(\"Element-wise Multiplication:\", result)"
      ],
      "metadata": {
        "colab": {
          "base_uri": "https://localhost:8080/"
        },
        "id": "0OQCFLuMxyZb",
        "outputId": "98bcabb8-6f8e-4807-9bdc-500c104c40a9"
      },
      "execution_count": null,
      "outputs": [
        {
          "output_type": "stream",
          "name": "stdout",
          "text": [
            "Array 1: [1 2 3 4]\n",
            "Array 2: [5 6 7 8]\n",
            "Element-wise Multiplication: [ 5 12 21 32]\n"
          ]
        }
      ]
    },
    {
      "cell_type": "code",
      "source": [
        "#8. A Create a line plot with multiple lines using Matplotlib?\n",
        "\n",
        "import matplotlib.pyplot as plt\n",
        "\n",
        "# Sample data\n",
        "x = [1, 2, 3, 4, 5]\n",
        "y1 = [2, 4, 6, 8, 10]     # First line\n",
        "y2 = [1, 3, 5, 7, 9]      # Second line\n",
        "y3 = [2, 3, 4, 5, 6]      # Third line\n",
        "\n",
        "# Create multiple line plots\n",
        "plt.plot(x, y1, label='Line 1', color='blue', marker='o')\n",
        "plt.plot(x, y2, label='Line 2', color='green', linestyle='--', marker='s')\n",
        "plt.plot(x, y3, label='Line 3', color='red', linestyle='-.', marker='^')\n",
        "\n",
        "# Add labels, title, and legend\n",
        "plt.xlabel('X-Axis')\n",
        "plt.ylabel('Y-Axis')\n",
        "plt.title('Multiple Line Plot')\n",
        "plt.legend()\n",
        "\n",
        "# Show plot\n",
        "plt.show()\n"
      ],
      "metadata": {
        "colab": {
          "base_uri": "https://localhost:8080/",
          "height": 472
        },
        "id": "CG22lWpLx-6r",
        "outputId": "faf3819f-fe34-4857-8823-a8740994d668"
      },
      "execution_count": null,
      "outputs": [
        {
          "output_type": "display_data",
          "data": {
            "text/plain": [
              "<Figure size 640x480 with 1 Axes>"
            ],
            "image/png": "[encoded data removed]"
          },
          "metadata": {}
        }
      ]
    },
    {
      "cell_type": "code",
      "source": [
        "#9. Generate a Pandas DataFrame and filter rows where a column value is greater than a threshold?\n",
        "\n",
        "import pandas as pd\n",
        "\n",
        "# Create a sample DataFrame\n",
        "data = {\n",
        "    'Name': ['Alice', 'Bob', 'Charlie', 'David'],\n",
        "    'Marks': [85, 70, 95, 60]\n",
        "}\n",
        "\n",
        "df = pd.DataFrame(data)\n",
        "\n",
        "# Filter rows where Marks > 80\n",
        "filtered_df = df[df['Marks'] > 80]\n",
        "\n",
        "print(\"Original DataFrame:\")\n",
        "print(df)\n",
        "print(\"\\nFiltered DataFrame (Marks > 80):\")\n",
        "print(filtered_df)"
      ],
      "metadata": {
        "colab": {
          "base_uri": "https://localhost:8080/"
        },
        "id": "OPDhCjQ1yPqr",
        "outputId": "d1dfbb9e-5294-46b9-9ce2-4bf1ddd07b49"
      },
      "execution_count": null,
      "outputs": [
        {
          "output_type": "stream",
          "name": "stdout",
          "text": [
            "Original DataFrame:\n",
            "      Name  Marks\n",
            "0    Alice     85\n",
            "1      Bob     70\n",
            "2  Charlie     95\n",
            "3    David     60\n",
            "\n",
            "Filtered DataFrame (Marks > 80):\n",
            "      Name  Marks\n",
            "0    Alice     85\n",
            "2  Charlie     95\n"
          ]
        }
      ]
    },
    {
      "cell_type": "code",
      "source": [
        "#10. Create a histogram using Seaborn to visualize a distribution?\n",
        "\n",
        "import seaborn as sns\n",
        "import matplotlib.pyplot as plt\n",
        "import pandas as pd\n",
        "\n",
        "# Sample data\n",
        "data = pd.DataFrame({\n",
        "    'Scores': [45, 50, 55, 60, 65, 70, 75, 80, 85, 90, 95, 100, 85, 70, 60, 75, 50]\n",
        "})\n",
        "\n",
        "# Create histogram\n",
        "sns.histplot(data['Scores'], bins=8, kde=True, color='blue')\n",
        "\n",
        "# Add title and labels\n",
        "plt.title(\"Distribution of Scores\")\n",
        "plt.xlabel(\"Scores\")\n",
        "plt.ylabel(\"Frequency\")\n",
        "\n",
        "plt.show()"
      ],
      "metadata": {
        "colab": {
          "base_uri": "https://localhost:8080/",
          "height": 472
        },
        "id": "XLPUQg88yyh_",
        "outputId": "002decd5-d83f-42e4-9800-bc02787da28b"
      },
      "execution_count": null,
      "outputs": [
        {
          "output_type": "display_data",
          "data": {
            "text/plain": [
              "<Figure size 640x480 with 1 Axes>"
            ],
            "image/png": "[encoded data removed]"
          },
          "metadata": {}
        }
      ]
    },
    {
      "cell_type": "code",
      "source": [
        "#11. A Perform matrix multiplication using NumPy?\n",
        "\n",
        "import numpy as np\n",
        "\n",
        "# Define two matrices\n",
        "A = np.array([[1, 2],\n",
        "              [3, 4]])\n",
        "\n",
        "B = np.array([[5, 6],\n",
        "              [7, 8]])\n",
        "\n",
        "# Method 1: Using @ operator\n",
        "C1 = A @ B\n",
        "\n",
        "# Method 2: Using np.dot()\n",
        "C2 = np.dot(A, B)\n",
        "\n",
        "# Method 3: Using np.matmul()\n",
        "C3 = np.matmul(A, B)\n",
        "\n",
        "print(\"Matrix A:\\n\", A)\n",
        "print(\"Matrix B:\\n\", B)\n",
        "print(\"Matrix multiplication (A @ B):\\n\", C1)"
      ],
      "metadata": {
        "colab": {
          "base_uri": "https://localhost:8080/"
        },
        "id": "37eWCTV-y9F0",
        "outputId": "532614d5-19c1-4a27-a365-977c01c1d44d"
      },
      "execution_count": null,
      "outputs": [
        {
          "output_type": "stream",
          "name": "stdout",
          "text": [
            "Matrix A:\n",
            " [[1 2]\n",
            " [3 4]]\n",
            "Matrix B:\n",
            " [[5 6]\n",
            " [7 8]]\n",
            "Matrix multiplication (A @ B):\n",
            " [[19 22]\n",
            " [43 50]]\n"
          ]
        }
      ]
    },
    {
      "cell_type": "code",
      "source": [
        "#12. Use Pandas to load a CSV file and display its first 5 rows?\n",
        "\n",
        "import pandas as pd\n",
        "\n",
        "# Load the CSV file (replace 'your_file.csv' with your file path)\n",
        "df = pd.read_csv('your_file.csv')\n",
        "\n",
        "# Display the first 5 rows\n",
        "print(df.head())\n",
        "\n"
      ],
      "metadata": {
        "id": "Lhf60_RRzJGp"
      },
      "execution_count": 18,
      "outputs": []
    },
    {
      "cell_type": "code",
      "source": [
        "#13. Create a 3D scatter plot using Plotly?\n",
        "\n",
        "import plotly.express as px\n",
        "import pandas as pd\n",
        "\n",
        "# Sample data\n",
        "data = {\n",
        "    'X': [1, 2, 3, 4, 5],\n",
        "    'Y': [10, 11, 12, 13, 14],\n",
        "    'Z': [100, 110, 120, 130, 140],\n",
        "    'Category': ['A', 'B', 'A', 'B', 'A']\n",
        "}\n",
        "\n",
        "df = pd.DataFrame(data)\n",
        "\n",
        "# Create 3D scatter plot\n",
        "fig = px.scatter_3d(df, x='X', y='Y', z='Z', color='Category',\n",
        "                    title='3D Scatter Plot Example')\n",
        "\n",
        "fig.show()\n"
      ],
      "metadata": {
        "colab": {
          "base_uri": "https://localhost:8080/",
          "height": 542
        },
        "id": "3V4jN_jkzS2i",
        "outputId": "b9ac4cc2-a70e-4821-c524-73ad148c6379"
      },
      "execution_count": null,
      "outputs": [
        {
          "output_type": "display_data",
          "data": {
            "text/html": [
              "<html>\n",
              "<head><meta charset=\"utf-8\" /></head>\n",
              "<body>\n",
              "    <div>            <script src=\"https://cdnjs.cloudflare.com/ajax/libs/mathjax/2.7.5/MathJax.js?config=TeX-AMS-MML_SVG\"></script><script type=\"text/javascript\">if (window.MathJax && window.MathJax.Hub && window.MathJax.Hub.Config) {window.MathJax.Hub.Config({SVG: {font: \"STIX-Web\"}});}</script>                <script type=\"text/javascript\">window.PlotlyConfig = {MathJaxConfig: 'local'};</script>\n",
              "        <script charset=\"utf-8\" src=\"https://cdn.plot.ly/plotly-2.35.2.min.js\"></script>                <div id=\"afebf309-8b9a-4902-a401-25fbe09acbe2\" class=\"plotly-graph-div\" style=\"height:525px; width:100%;\"></div>            <script type=\"text/javascript\">                                    window.PLOTLYENV=window.PLOTLYENV || {};                                    if (document.getElementById(\"afebf309-8b9a-4902-a401-25fbe09acbe2\")) {                    Plotly.newPlot(                        \"afebf309-8b9a-4902-a401-25fbe09acbe2\",                        [{\"hovertemplate\":\"Category=A\\u003cbr\\u003eX=%{x}\\u003cbr\\u003eY=%{y}\\u003cbr\\u003eZ=%{z}\\u003cextra\\u003e\\u003c\\u002fextra\\u003e\",\"legendgroup\":\"A\",\"marker\":{\"color\":\"#636efa\",\"symbol\":\"circle\"},\"mode\":\"markers\",\"name\":\"A\",\"scene\":\"scene\",\"showlegend\":true,\"x\":[1,3,5],\"y\":[10,12,14],\"z\":[100,120,140],\"type\":\"scatter3d\"},{\"hovertemplate\":\"Category=B\\u003cbr\\u003eX=%{x}\\u003cbr\\u003eY=%{y}\\u003cbr\\u003eZ=%{z}\\u003cextra\\u003e\\u003c\\u002fextra\\u003e\",\"legendgroup\":\"B\",\"marker\":{\"color\":\"#EF553B\",\"symbol\":\"circle\"},\"mode\":\"markers\",\"name\":\"B\",\"scene\":\"scene\",\"showlegend\":true,\"x\":[2,4],\"y\":[11,13],\"z\":[110,130],\"type\":\"scatter3d\"}],                        {\"template\":{\"data\":{\"histogram2dcontour\":[{\"type\":\"histogram2dcontour\",\"colorbar\":{\"outlinewidth\":0,\"ticks\":\"\"},\"colorscale\":[[0.0,\"#0d0887\"],[0.1111111111111111,\"#46039f\"],[0.2222222222222222,\"#7201a8\"],[0.3333333333333333,\"#9c179e\"],[0.4444444444444444,\"#bd3786\"],[0.5555555555555556,\"#d8576b\"],[0.6666666666666666,\"#ed7953\"],[0.7777777777777778,\"#fb9f3a\"],[0.8888888888888888,\"#fdca26\"],[1.0,\"#f0f921\"]]}],\"choropleth\":[{\"type\":\"choropleth\",\"colorbar\":{\"outlinewidth\":0,\"ticks\":\"\"}}],\"histogram2d\":[{\"type\":\"histogram2d\",\"colorbar\":{\"outlinewidth\":0,\"ticks\":\"\"},\"colorscale\":[[0.0,\"#0d0887\"],[0.1111111111111111,\"#46039f\"],[0.2222222222222222,\"#7201a8\"],[0.3333333333333333,\"#9c179e\"],[0.4444444444444444,\"#bd3786\"],[0.5555555555555556,\"#d8576b\"],[0.6666666666666666,\"#ed7953\"],[0.7777777777777778,\"#fb9f3a\"],[0.8888888888888888,\"#fdca26\"],[1.0,\"#f0f921\"]]}],\"heatmap\":[{\"type\":\"heatmap\",\"colorbar\":{\"outlinewidth\":0,\"ticks\":\"\"},\"colorscale\":[[0.0,\"#0d0887\"],[0.1111111111111111,\"#46039f\"],[0.2222222222222222,\"#7201a8\"],[0.3333333333333333,\"#9c179e\"],[0.4444444444444444,\"#bd3786\"],[0.5555555555555556,\"#d8576b\"],[0.6666666666666666,\"#ed7953\"],[0.7777777777777778,\"#fb9f3a\"],[0.8888888888888888,\"#fdca26\"],[1.0,\"#f0f921\"]]}],\"heatmapgl\":[{\"type\":\"heatmapgl\",\"colorbar\":{\"outlinewidth\":0,\"ticks\":\"\"},\"colorscale\":[[0.0,\"#0d0887\"],[0.1111111111111111,\"#46039f\"],[0.2222222222222222,\"#7201a8\"],[0.3333333333333333,\"#9c179e\"],[0.4444444444444444,\"#bd3786\"],[0.5555555555555556,\"#d8576b\"],[0.6666666666666666,\"#ed7953\"],[0.7777777777777778,\"#fb9f3a\"],[0.8888888888888888,\"#fdca26\"],[1.0,\"#f0f921\"]]}],\"contourcarpet\":[{\"type\":\"contourcarpet\",\"colorbar\":{\"outlinewidth\":0,\"ticks\":\"\"}}],\"contour\":[{\"type\":\"contour\",\"colorbar\":{\"outlinewidth\":0,\"ticks\":\"\"},\"colorscale\":[[0.0,\"#0d0887\"],[0.1111111111111111,\"#46039f\"],[0.2222222222222222,\"#7201a8\"],[0.3333333333333333,\"#9c179e\"],[0.4444444444444444,\"#bd3786\"],[0.5555555555555556,\"#d8576b\"],[0.6666666666666666,\"#ed7953\"],[0.7777777777777778,\"#fb9f3a\"],[0.8888888888888888,\"#fdca26\"],[1.0,\"#f0f921\"]]}],\"surface\":[{\"type\":\"surface\",\"colorbar\":{\"outlinewidth\":0,\"ticks\":\"\"},\"colorscale\":[[0.0,\"#0d0887\"],[0.1111111111111111,\"#46039f\"],[0.2222222222222222,\"#7201a8\"],[0.3333333333333333,\"#9c179e\"],[0.4444444444444444,\"#bd3786\"],[0.5555555555555556,\"#d8576b\"],[0.6666666666666666,\"#ed7953\"],[0.7777777777777778,\"#fb9f3a\"],[0.8888888888888888,\"#fdca26\"],[1.0,\"#f0f921\"]]}],\"mesh3d\":[{\"type\":\"mesh3d\",\"colorbar\":{\"outlinewidth\":0,\"ticks\":\"\"}}],\"scatter\":[{\"fillpattern\":{\"fillmode\":\"overlay\",\"size\":10,\"solidity\":0.2},\"type\":\"scatter\"}],\"parcoords\":[{\"type\":\"parcoords\",\"line\":{\"colorbar\":{\"outlinewidth\":0,\"ticks\":\"\"}}}],\"scatterpolargl\":[{\"type\":\"scatterpolargl\",\"marker\":{\"colorbar\":{\"outlinewidth\":0,\"ticks\":\"\"}}}],\"bar\":[{\"error_x\":{\"color\":\"#2a3f5f\"},\"error_y\":{\"color\":\"#2a3f5f\"},\"marker\":{\"line\":{\"color\":\"#E5ECF6\",\"width\":0.5},\"pattern\":{\"fillmode\":\"overlay\",\"size\":10,\"solidity\":0.2}},\"type\":\"bar\"}],\"scattergeo\":[{\"type\":\"scattergeo\",\"marker\":{\"colorbar\":{\"outlinewidth\":0,\"ticks\":\"\"}}}],\"scatterpolar\":[{\"type\":\"scatterpolar\",\"marker\":{\"colorbar\":{\"outlinewidth\":0,\"ticks\":\"\"}}}],\"histogram\":[{\"marker\":{\"pattern\":{\"fillmode\":\"overlay\",\"size\":10,\"solidity\":0.2}},\"type\":\"histogram\"}],\"scattergl\":[{\"type\":\"scattergl\",\"marker\":{\"colorbar\":{\"outlinewidth\":0,\"ticks\":\"\"}}}],\"scatter3d\":[{\"type\":\"scatter3d\",\"line\":{\"colorbar\":{\"outlinewidth\":0,\"ticks\":\"\"}},\"marker\":{\"colorbar\":{\"outlinewidth\":0,\"ticks\":\"\"}}}],\"scattermapbox\":[{\"type\":\"scattermapbox\",\"marker\":{\"colorbar\":{\"outlinewidth\":0,\"ticks\":\"\"}}}],\"scatterternary\":[{\"type\":\"scatterternary\",\"marker\":{\"colorbar\":{\"outlinewidth\":0,\"ticks\":\"\"}}}],\"scattercarpet\":[{\"type\":\"scattercarpet\",\"marker\":{\"colorbar\":{\"outlinewidth\":0,\"ticks\":\"\"}}}],\"carpet\":[{\"aaxis\":{\"endlinecolor\":\"#2a3f5f\",\"gridcolor\":\"white\",\"linecolor\":\"white\",\"minorgridcolor\":\"white\",\"startlinecolor\":\"#2a3f5f\"},\"baxis\":{\"endlinecolor\":\"#2a3f5f\",\"gridcolor\":\"white\",\"linecolor\":\"white\",\"minorgridcolor\":\"white\",\"startlinecolor\":\"#2a3f5f\"},\"type\":\"carpet\"}],\"table\":[{\"cells\":{\"fill\":{\"color\":\"#EBF0F8\"},\"line\":{\"color\":\"white\"}},\"header\":{\"fill\":{\"color\":\"#C8D4E3\"},\"line\":{\"color\":\"white\"}},\"type\":\"table\"}],\"barpolar\":[{\"marker\":{\"line\":{\"color\":\"#E5ECF6\",\"width\":0.5},\"pattern\":{\"fillmode\":\"overlay\",\"size\":10,\"solidity\":0.2}},\"type\":\"barpolar\"}],\"pie\":[{\"automargin\":true,\"type\":\"pie\"}]},\"layout\":{\"autotypenumbers\":\"strict\",\"colorway\":[\"#636efa\",\"#EF553B\",\"#00cc96\",\"#ab63fa\",\"#FFA15A\",\"#19d3f3\",\"#FF6692\",\"#B6E880\",\"#FF97FF\",\"#FECB52\"],\"font\":{\"color\":\"#2a3f5f\"},\"hovermode\":\"closest\",\"hoverlabel\":{\"align\":\"left\"},\"paper_bgcolor\":\"white\",\"plot_bgcolor\":\"#E5ECF6\",\"polar\":{\"bgcolor\":\"#E5ECF6\",\"angularaxis\":{\"gridcolor\":\"white\",\"linecolor\":\"white\",\"ticks\":\"\"},\"radialaxis\":{\"gridcolor\":\"white\",\"linecolor\":\"white\",\"ticks\":\"\"}},\"ternary\":{\"bgcolor\":\"#E5ECF6\",\"aaxis\":{\"gridcolor\":\"white\",\"linecolor\":\"white\",\"ticks\":\"\"},\"baxis\":{\"gridcolor\":\"white\",\"linecolor\":\"white\",\"ticks\":\"\"},\"caxis\":{\"gridcolor\":\"white\",\"linecolor\":\"white\",\"ticks\":\"\"}},\"coloraxis\":{\"colorbar\":{\"outlinewidth\":0,\"ticks\":\"\"}},\"colorscale\":{\"sequential\":[[0.0,\"#0d0887\"],[0.1111111111111111,\"#46039f\"],[0.2222222222222222,\"#7201a8\"],[0.3333333333333333,\"#9c179e\"],[0.4444444444444444,\"#bd3786\"],[0.5555555555555556,\"#d8576b\"],[0.6666666666666666,\"#ed7953\"],[0.7777777777777778,\"#fb9f3a\"],[0.8888888888888888,\"#fdca26\"],[1.0,\"#f0f921\"]],\"sequentialminus\":[[0.0,\"#0d0887\"],[0.1111111111111111,\"#46039f\"],[0.2222222222222222,\"#7201a8\"],[0.3333333333333333,\"#9c179e\"],[0.4444444444444444,\"#bd3786\"],[0.5555555555555556,\"#d8576b\"],[0.6666666666666666,\"#ed7953\"],[0.7777777777777778,\"#fb9f3a\"],[0.8888888888888888,\"#fdca26\"],[1.0,\"#f0f921\"]],\"diverging\":[[0,\"#8e0152\"],[0.1,\"#c51b7d\"],[0.2,\"#de77ae\"],[0.3,\"#f1b6da\"],[0.4,\"#fde0ef\"],[0.5,\"#f7f7f7\"],[0.6,\"#e6f5d0\"],[0.7,\"#b8e186\"],[0.8,\"#7fbc41\"],[0.9,\"#4d9221\"],[1,\"#276419\"]]},\"xaxis\":{\"gridcolor\":\"white\",\"linecolor\":\"white\",\"ticks\":\"\",\"title\":{\"standoff\":15},\"zerolinecolor\":\"white\",\"automargin\":true,\"zerolinewidth\":2},\"yaxis\":{\"gridcolor\":\"white\",\"linecolor\":\"white\",\"ticks\":\"\",\"title\":{\"standoff\":15},\"zerolinecolor\":\"white\",\"automargin\":true,\"zerolinewidth\":2},\"scene\":{\"xaxis\":{\"backgroundcolor\":\"#E5ECF6\",\"gridcolor\":\"white\",\"linecolor\":\"white\",\"showbackground\":true,\"ticks\":\"\",\"zerolinecolor\":\"white\",\"gridwidth\":2},\"yaxis\":{\"backgroundcolor\":\"#E5ECF6\",\"gridcolor\":\"white\",\"linecolor\":\"white\",\"showbackground\":true,\"ticks\":\"\",\"zerolinecolor\":\"white\",\"gridwidth\":2},\"zaxis\":{\"backgroundcolor\":\"#E5ECF6\",\"gridcolor\":\"white\",\"linecolor\":\"white\",\"showbackground\":true,\"ticks\":\"\",\"zerolinecolor\":\"white\",\"gridwidth\":2}},\"shapedefaults\":{\"line\":{\"color\":\"#2a3f5f\"}},\"annotationdefaults\":{\"arrowcolor\":\"#2a3f5f\",\"arrowhead\":0,\"arrowwidth\":1},\"geo\":{\"bgcolor\":\"white\",\"landcolor\":\"#E5ECF6\",\"subunitcolor\":\"white\",\"showland\":true,\"showlakes\":true,\"lakecolor\":\"white\"},\"title\":{\"x\":0.05},\"mapbox\":{\"style\":\"light\"}}},\"scene\":{\"domain\":{\"x\":[0.0,1.0],\"y\":[0.0,1.0]},\"xaxis\":{\"title\":{\"text\":\"X\"}},\"yaxis\":{\"title\":{\"text\":\"Y\"}},\"zaxis\":{\"title\":{\"text\":\"Z\"}}},\"legend\":{\"title\":{\"text\":\"Category\"},\"tracegroupgap\":0},\"title\":{\"text\":\"3D Scatter Plot Example\"}},                        {\"responsive\": true}                    ).then(function(){\n",
              "                            \n",
              "var gd = document.getElementById('afebf309-8b9a-4902-a401-25fbe09acbe2');\n",
              "var x = new MutationObserver(function (mutations, observer) {{\n",
              "        var display = window.getComputedStyle(gd).display;\n",
              "        if (!display || display === 'none') {{\n",
              "            console.log([gd, 'removed!']);\n",
              "            Plotly.purge(gd);\n",
              "            observer.disconnect();\n",
              "        }}\n",
              "}});\n",
              "\n",
              "// Listen for the removal of the full notebook cells\n",
              "var notebookContainer = gd.closest('#notebook-container');\n",
              "if (notebookContainer) {{\n",
              "    x.observe(notebookContainer, {childList: true});\n",
              "}}\n",
              "\n",
              "// Listen for the clearing of the current output cell\n",
              "var outputEl = gd.closest('.output');\n",
              "if (outputEl) {{\n",
              "    x.observe(outputEl, {childList: true});\n",
              "}}\n",
              "\n",
              "                        })                };                            </script>        </div>\n",
              "</body>\n",
              "</html>"
            ]
          },
          "metadata": {}
        }
      ]
    },
    {
      "cell_type": "code",
      "source": [],
      "metadata": {
        "id": "8xw35UYvzc6O"
      },
      "execution_count": null,
      "outputs": []
    }
  ]
}