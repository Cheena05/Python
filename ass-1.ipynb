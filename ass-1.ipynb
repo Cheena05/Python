{
  "nbformat": 4,
  "nbformat_minor": 0,
  "metadata": {
    "colab": {
      "provenance": [],
      "authorship_tag": "ABX9TyP5wSMAI7dheF1caJiLNfxS",
      "include_colab_link": true
    },
    "kernelspec": {
      "name": "python3",
      "display_name": "Python 3"
    },
    "language_info": {
      "name": "python"
    }
  },
  "cells": [
    {
      "cell_type": "markdown",
      "metadata": {
        "id": "view-in-github",
        "colab_type": "text"
      },
      "source": [
        "<a href=\"https://colab.research.google.com/github/Cheena05/Python/blob/main/ass-1.ipynb\" target=\"_parent\"><img src=\"https://colab.research.google.com/assets/colab-badge.svg\" alt=\"Open In Colab\"/></a>"
      ]
    },
    {
      "cell_type": "markdown",
      "source": [
        "PYTHON BASIC QUESTIONS"
      ],
      "metadata": {
        "id": "Qxk6wT0tXcgT"
      }
    },
    {
      "cell_type": "markdown",
      "source": [
        "1. What is Python and why is it popular?\n",
        "-  Python is a programming languange.It is known for it's ease of learning and versatility used in web development,machine learning and so on. It includes data types,variables,operators,conditional staetments. It is popular for it's easy learning and it is widely used in the industries. It also contains lots of libraries. The automation and image processing in python is also popular. It helps in the proper data analysis, front-end and back-end."
      ],
      "metadata": {
        "id": "YV71eFljW01s"
      }
    },
    {
      "cell_type": "markdown",
      "source": [
        "2. What is an interpreter in Python?\n",
        "-  It is a program that reads and executes Python code. It translates it into a form the computer can understand. To execute a code we need a platform or environment and that environment is IDE(Integrated Development Environment). Computer will execute code directly using IDE's."
      ],
      "metadata": {
        "id": "SlJd1CtlXoJO"
      }
    },
    {
      "cell_type": "markdown",
      "source": [
        "3. What are pre-defined keywords in Python?\n",
        "-  The keywords which are reserved words that have special meaning in the language are pre-defined keywords. some examples are True,False,if,else, etc."
      ],
      "metadata": {
        "id": "2amkWH6LXoFU"
      }
    },
    {
      "cell_type": "markdown",
      "source": [
        "4. Can keywords be used as variables names?\n",
        "-  No,keywords can not be used as variable names. And if we do so it will show a syntax error."
      ],
      "metadata": {
        "id": "imtywl2jXoCp"
      }
    },
    {
      "cell_type": "markdown",
      "source": [
        "5. What is mutability in Python?\n",
        "-  Objects/Container whose value can be changed after they are created are called as mutable objects. Mutability means change, if you can edit something after it created."
      ],
      "metadata": {
        "id": "V1TZ6qRIXoAB"
      }
    },
    {
      "cell_type": "markdown",
      "source": [
        "6.  What are lists mutable, but tuples are immutable?\n",
        "-  List is a type of mutable object in which the value can be changed after the creation. It is defined with square bracket[]. List is that type of data container whivh can store all the type of data. example-(int, str, bool, etc.)\n",
        "-  Tuples are defined with round bracket(). And these are immutable because it can not be modified or replace that's why we use () brackets to make the elements permanent.\n"
      ],
      "metadata": {
        "id": "aiOJJ6lkXn9Z"
      }
    },
    {
      "cell_type": "markdown",
      "source": [
        "7. What is the difference between \"==\" and \"is\" operators in python.\n",
        "-  This \"==\" equal is a comparison operators where we compare two values and return a boolean value.\n",
        "-  The \"is\" is an identity operator, where we compares location of two objects/variables."
      ],
      "metadata": {
        "id": "VsXPXRt2Xn63"
      }
    },
    {
      "cell_type": "markdown",
      "source": [
        "8. What are logical operators in Python?\n",
        "-  Python operators has special keywords/symbols that are used to perform operations on value. Logical operators are a part of it.\n",
        "-  Logical operators are of 3 types\n",
        "   1) AND   2) OR   3) NOT\n",
        "   -  It contains True and False\n",
        "      1) AND            2) OR            3)NOT Operator\n",
        "            T AND T - T      T OR T - T       \n",
        "            T AND F - F      T OR F - T\n",
        "            F AND T - F      F OR T - T\n",
        "            F AND F - F      F OR F - F"
      ],
      "metadata": {
        "id": "XQiiucq2Xn4O"
      }
    },
    {
      "cell_type": "markdown",
      "source": [
        "9. What is type casting in Python?\n",
        "-  The process of changing the data type of a value or object is type casting/type conversion. While executing using the operators, there can be a mismatch between the data types that's where type casting comes in python."
      ],
      "metadata": {
        "id": "dmOS5uu1Xn13"
      }
    },
    {
      "cell_type": "markdown",
      "source": [
        "10. What is the difference between implicit and explicit type casting?\n",
        "-   Type casting are of two types:\n",
        "    1) Implicit typecasting - In which python understands the data types.\n",
        "        2) Explicit typecasting - This convert data types using inbuilt functions, example- str, int, bool, float."
      ],
      "metadata": {
        "id": "Ols4wGvDXnza"
      }
    },
    {
      "cell_type": "markdown",
      "source": [
        "11. What is the purpose of conditional statements in Python?\n",
        "-  Condiotional statements in Python helps you to code decisions based on some pre-conditions. They allow your code to execute certain blocks of code only when specific condition are met."
      ],
      "metadata": {
        "id": "nanIfvBvXnw-"
      }
    },
    {
      "cell_type": "markdown",
      "source": [
        "12. How does the elif statement work?\n",
        "-   The elif(\"else if\") statement is used to check multiple conditions after the initial \"if\" statement. It allows your program to try several conditions in sequence, and executes the first block where the condition is true. Example :"
      ],
      "metadata": {
        "id": "B3xUyJm7XnuW"
      }
    },
    {
      "cell_type": "code",
      "source": [
        "score=80\n",
        "if score>=90:\n",
        "  print(\"grade A\")\n",
        "elif(80<=score<90):\n",
        "    print(\"grade B\")\n",
        "elif(70<=score<80):\n",
        "    print(\"grade C\")\n",
        "else:\n",
        "    print(\"grade D\")"
      ],
      "metadata": {
        "colab": {
          "base_uri": "https://localhost:8080/"
        },
        "id": "-G7yzoOeaLsE",
        "outputId": "af0405be-aaa5-42b9-caf3-986c36a5717f"
      },
      "execution_count": 2,
      "outputs": [
        {
          "output_type": "stream",
          "name": "stdout",
          "text": [
            "grade B\n"
          ]
        }
      ]
    },
    {
      "cell_type": "markdown",
      "source": [
        "13. What is the difference between for and while loops?\n",
        "-   There are 2 types of loops\n",
        "    1) For loop : It is used when you know in advance how many times you want to loop.\n",
        "        2) While loop : It repeatedly executes a block of code until a condition a met."
      ],
      "metadata": {
        "id": "s3XwlmU8XnpU"
      }
    },
    {
      "cell_type": "markdown",
      "source": [
        "14. Describe a scenario where a while loop is more suitable than a for loop?\n",
        "-   Suppose you forget the password of your laptop, then you'll try opening it.\n",
        "-   A for loop wouldn't work unless you fixed a maximum number of attempts.\n",
        "-   And the while loop chceks a condition and repeats untill it's no longer true."
      ],
      "metadata": {
        "id": "uac2p12SXnmg"
      }
    },
    {
      "cell_type": "markdown",
      "source": [
        "PRACTICAL QUESTIONS"
      ],
      "metadata": {
        "id": "hIHp-Mo4XnkL"
      }
    },
    {
      "cell_type": "code",
      "source": [
        "1.#Write a python program to print\"Hello,World!\"\n",
        "print(\"Hello World!\")"
      ],
      "metadata": {
        "colab": {
          "base_uri": "https://localhost:8080/"
        },
        "id": "LOZzFo-9b2jh",
        "outputId": "19e03149-6dad-4b6c-b893-53b0a5288220"
      },
      "execution_count": 3,
      "outputs": [
        {
          "output_type": "stream",
          "name": "stdout",
          "text": [
            "Hello World!\n"
          ]
        }
      ]
    },
    {
      "cell_type": "code",
      "source": [
        "2. #Write a Python program that displays your name and age.\n",
        "user_input=input (\"enter your name\")\n",
        "print(user_input)"
      ],
      "metadata": {
        "colab": {
          "base_uri": "https://localhost:8080/"
        },
        "id": "FLmDT8thb2b2",
        "outputId": "d2c20c0d-de8e-4c22-d235-d7bb898d7a38"
      },
      "execution_count": 5,
      "outputs": [
        {
          "output_type": "stream",
          "name": "stdout",
          "text": [
            "enter your name Sneha\n",
            " Sneha\n"
          ]
        }
      ]
    },
    {
      "cell_type": "code",
      "source": [
        "user_input= input (\"enter your age\")\n",
        "print(user_input)"
      ],
      "metadata": {
        "colab": {
          "base_uri": "https://localhost:8080/"
        },
        "id": "MTDJo3Ssb2UD",
        "outputId": "eda43eb6-264a-45b4-de70-51fbc03a490c"
      },
      "execution_count": 6,
      "outputs": [
        {
          "output_type": "stream",
          "name": "stdout",
          "text": [
            "enter your age22\n",
            "22\n"
          ]
        }
      ]
    },
    {
      "cell_type": "code",
      "source": [
        "3. #Write code to print pre-defined keywords in Python using the keyword library.\n",
        "help('keywords')"
      ],
      "metadata": {
        "colab": {
          "base_uri": "https://localhost:8080/"
        },
        "id": "sj43-ue4b2MR",
        "outputId": "750beeea-4cc5-4a53-af30-41c0e92c8489"
      },
      "execution_count": 7,
      "outputs": [
        {
          "output_type": "stream",
          "name": "stdout",
          "text": [
            "\n",
            "Here is a list of the Python keywords.  Enter any keyword to get more help.\n",
            "\n",
            "False               class               from                or\n",
            "None                continue            global              pass\n",
            "True                def                 if                  raise\n",
            "and                 del                 import              return\n",
            "as                  elif                in                  try\n",
            "assert              else                is                  while\n",
            "async               except              lambda              with\n",
            "await               finally             nonlocal            yield\n",
            "break               for                 not                 \n",
            "\n"
          ]
        }
      ]
    },
    {
      "cell_type": "code",
      "source": [
        "4. #Write a program that check if a given word is a Python keyword.\n",
        "import keyword\n",
        "word = \"by\"\n",
        "if (keyword).iskeyword(word):\n",
        "   print(\"true (word) is a keyword\")\n",
        "else:\n",
        "  print(\"false (word) is not a keyword\")\n"
      ],
      "metadata": {
        "colab": {
          "base_uri": "https://localhost:8080/"
        },
        "id": "moN7bvCVb2D5",
        "outputId": "0042cf85-df20-42e1-9b51-6caca409a4c8"
      },
      "execution_count": 10,
      "outputs": [
        {
          "output_type": "stream",
          "name": "stdout",
          "text": [
            "false (word) is not a keyword\n"
          ]
        }
      ]
    },
    {
      "cell_type": "code",
      "source": [
        "5. #Create a list and tuple in Python and demostrate how attempting to change an element works differently for each.\n",
        "tuple1=(1,2,3.5,4+5j,'sun')\n",
        "tuple1"
      ],
      "metadata": {
        "colab": {
          "base_uri": "https://localhost:8080/"
        },
        "id": "wqI_Bomtb15V",
        "outputId": "f175300c-af62-4791-9ec6-8b5a438b56c8"
      },
      "execution_count": 11,
      "outputs": [
        {
          "output_type": "execute_result",
          "data": {
            "text/plain": [
              "(1, 2, 3.5, (4+5j), 'sun')"
            ]
          },
          "metadata": {},
          "execution_count": 11
        }
      ]
    },
    {
      "cell_type": "code",
      "source": [
        "tuple1[1]"
      ],
      "metadata": {
        "colab": {
          "base_uri": "https://localhost:8080/"
        },
        "id": "t-iv3gGJb1p6",
        "outputId": "634823e0-9f95-407b-97a8-bb12fcbd1401"
      },
      "execution_count": 12,
      "outputs": [
        {
          "output_type": "execute_result",
          "data": {
            "text/plain": [
              "2"
            ]
          },
          "metadata": {},
          "execution_count": 12
        }
      ]
    },
    {
      "cell_type": "code",
      "source": [
        "tuple1.count(\"sun\")"
      ],
      "metadata": {
        "colab": {
          "base_uri": "https://localhost:8080/"
        },
        "id": "UXEOdefrepID",
        "outputId": "9ca041c8-19ba-4d30-8c5e-c272d1e41392"
      },
      "execution_count": 13,
      "outputs": [
        {
          "output_type": "execute_result",
          "data": {
            "text/plain": [
              "1"
            ]
          },
          "metadata": {},
          "execution_count": 13
        }
      ]
    },
    {
      "cell_type": "code",
      "source": [
        "tuple1.index(\"sun\")"
      ],
      "metadata": {
        "colab": {
          "base_uri": "https://localhost:8080/"
        },
        "id": "NA9eFnDfepEb",
        "outputId": "14433c65-d8f1-4862-935d-e9b7423bf74d"
      },
      "execution_count": 14,
      "outputs": [
        {
          "output_type": "execute_result",
          "data": {
            "text/plain": [
              "4"
            ]
          },
          "metadata": {},
          "execution_count": 14
        }
      ]
    },
    {
      "cell_type": "code",
      "source": [
        "list = (tuple1)\n",
        "list"
      ],
      "metadata": {
        "colab": {
          "base_uri": "https://localhost:8080/"
        },
        "id": "GmTY-zmbepB-",
        "outputId": "7e9f841b-8853-456f-8054-e8c57d804ea2"
      },
      "execution_count": 15,
      "outputs": [
        {
          "output_type": "execute_result",
          "data": {
            "text/plain": [
              "(1, 2, 3.5, (4+5j), 'sun')"
            ]
          },
          "metadata": {},
          "execution_count": 15
        }
      ]
    },
    {
      "cell_type": "code",
      "source": [
        "#list\n",
        "list1=[5,True,5.5]\n",
        "list1"
      ],
      "metadata": {
        "colab": {
          "base_uri": "https://localhost:8080/"
        },
        "id": "Heg-Lriweo_u",
        "outputId": "7a9e6d19-2863-43d6-fcad-29c933623652"
      },
      "execution_count": 16,
      "outputs": [
        {
          "output_type": "execute_result",
          "data": {
            "text/plain": [
              "[5, True, 5.5]"
            ]
          },
          "metadata": {},
          "execution_count": 16
        }
      ]
    },
    {
      "cell_type": "code",
      "source": [
        "list1[1]"
      ],
      "metadata": {
        "colab": {
          "base_uri": "https://localhost:8080/"
        },
        "id": "G4D4QVD-eo9m",
        "outputId": "2977615f-c917-4ed0-9be2-66cf055fa679"
      },
      "execution_count": 17,
      "outputs": [
        {
          "output_type": "execute_result",
          "data": {
            "text/plain": [
              "True"
            ]
          },
          "metadata": {},
          "execution_count": 17
        }
      ]
    },
    {
      "cell_type": "code",
      "source": [
        "list1[1]=False\n",
        "list1"
      ],
      "metadata": {
        "colab": {
          "base_uri": "https://localhost:8080/"
        },
        "id": "ftLaavr_eoGP",
        "outputId": "a2a5b8b3-6144-4ca2-8dd7-64d1f171c361"
      },
      "execution_count": 18,
      "outputs": [
        {
          "output_type": "execute_result",
          "data": {
            "text/plain": [
              "[5, False, 5.5]"
            ]
          },
          "metadata": {},
          "execution_count": 18
        }
      ]
    },
    {
      "cell_type": "code",
      "source": [
        "6. #Write a function to demonstrate the behaviour of mutable and immutable arguments.\n",
        "#mutable\n",
        "list_cont=[1,2,3.5,4+5j,True,'Mom']\n",
        "list_cont"
      ],
      "metadata": {
        "colab": {
          "base_uri": "https://localhost:8080/"
        },
        "id": "7kkhXBZKfQGh",
        "outputId": "5ffd72ea-90c4-4a98-e575-80dcc662e277"
      },
      "execution_count": 19,
      "outputs": [
        {
          "output_type": "execute_result",
          "data": {
            "text/plain": [
              "[1, 2, 3.5, (4+5j), True, 'Mom']"
            ]
          },
          "metadata": {},
          "execution_count": 19
        }
      ]
    },
    {
      "cell_type": "code",
      "source": [
        "list_cont[5]"
      ],
      "metadata": {
        "colab": {
          "base_uri": "https://localhost:8080/",
          "height": 35
        },
        "id": "-_gbyzHyfjem",
        "outputId": "4d2423c3-ecd4-4938-fde2-29920615fdb8"
      },
      "execution_count": 20,
      "outputs": [
        {
          "output_type": "execute_result",
          "data": {
            "text/plain": [
              "'Mom'"
            ],
            "application/vnd.google.colaboratory.intrinsic+json": {
              "type": "string"
            }
          },
          "metadata": {},
          "execution_count": 20
        }
      ]
    },
    {
      "cell_type": "code",
      "source": [
        "list_cont[5]=\"Dad\"\n",
        "list_cont"
      ],
      "metadata": {
        "colab": {
          "base_uri": "https://localhost:8080/"
        },
        "id": "xzdcJxzWfmVA",
        "outputId": "658ba2ea-b486-40a2-f316-562dd8f80e29"
      },
      "execution_count": 22,
      "outputs": [
        {
          "output_type": "execute_result",
          "data": {
            "text/plain": [
              "[1, 2, 3.5, (4+5j), True, 'Dad']"
            ]
          },
          "metadata": {},
          "execution_count": 22
        }
      ]
    },
    {
      "cell_type": "code",
      "source": [
        "#immutable\n",
        "a=\"virat kohli\"\n",
        "a"
      ],
      "metadata": {
        "colab": {
          "base_uri": "https://localhost:8080/",
          "height": 35
        },
        "id": "yvCqpmKWfo3M",
        "outputId": "d7ee8d57-7670-4e2a-ec4f-3e5c81b51868"
      },
      "execution_count": 23,
      "outputs": [
        {
          "output_type": "execute_result",
          "data": {
            "text/plain": [
              "'virat kohli'"
            ],
            "application/vnd.google.colaboratory.intrinsic+json": {
              "type": "string"
            }
          },
          "metadata": {},
          "execution_count": 23
        }
      ]
    },
    {
      "cell_type": "code",
      "source": [
        "a[4]"
      ],
      "metadata": {
        "colab": {
          "base_uri": "https://localhost:8080/",
          "height": 35
        },
        "id": "q6_E3a8RfyEU",
        "outputId": "2910e005-47c9-4180-86b0-536bbde54a54"
      },
      "execution_count": 24,
      "outputs": [
        {
          "output_type": "execute_result",
          "data": {
            "text/plain": [
              "'t'"
            ],
            "application/vnd.google.colaboratory.intrinsic+json": {
              "type": "string"
            }
          },
          "metadata": {},
          "execution_count": 24
        }
      ]
    },
    {
      "cell_type": "code",
      "source": [
        "a[4]=\"j\" #we can't modify in immutable"
      ],
      "metadata": {
        "colab": {
          "base_uri": "https://localhost:8080/",
          "height": 141
        },
        "id": "94IAGsXJf2zy",
        "outputId": "dd453c17-6baf-49b2-8744-3ce31d559e40"
      },
      "execution_count": 25,
      "outputs": [
        {
          "output_type": "error",
          "ename": "TypeError",
          "evalue": "'str' object does not support item assignment",
          "traceback": [
            "\u001b[0;31m---------------------------------------------------------------------------\u001b[0m",
            "\u001b[0;31mTypeError\u001b[0m                                 Traceback (most recent call last)",
            "\u001b[0;32m<ipython-input-25-e0e882c57125>\u001b[0m in \u001b[0;36m<cell line: 0>\u001b[0;34m()\u001b[0m\n\u001b[0;32m----> 1\u001b[0;31m \u001b[0ma\u001b[0m\u001b[0;34m[\u001b[0m\u001b[0;36m4\u001b[0m\u001b[0;34m]\u001b[0m\u001b[0;34m=\u001b[0m\u001b[0;34m\"j\"\u001b[0m\u001b[0;34m\u001b[0m\u001b[0;34m\u001b[0m\u001b[0m\n\u001b[0m",
            "\u001b[0;31mTypeError\u001b[0m: 'str' object does not support item assignment"
          ]
        }
      ]
    },
    {
      "cell_type": "code",
      "source": [
        "7. #Write a program that performs basic arithematic operations on two user-input numbers.\n",
        "a=5\n",
        "b=2\n",
        "a+b"
      ],
      "metadata": {
        "colab": {
          "base_uri": "https://localhost:8080/"
        },
        "id": "Hvv2uch1f-qQ",
        "outputId": "0c498479-621e-43fe-8f2b-181525f78e3a"
      },
      "execution_count": 26,
      "outputs": [
        {
          "output_type": "execute_result",
          "data": {
            "text/plain": [
              "7"
            ]
          },
          "metadata": {},
          "execution_count": 26
        }
      ]
    },
    {
      "cell_type": "code",
      "source": [
        "sub=a-b\n",
        "sub"
      ],
      "metadata": {
        "colab": {
          "base_uri": "https://localhost:8080/"
        },
        "id": "-1Vr9vbIgORk",
        "outputId": "123fa71b-d8ea-41d1-a032-2561ae30866e"
      },
      "execution_count": 28,
      "outputs": [
        {
          "output_type": "execute_result",
          "data": {
            "text/plain": [
              "3"
            ]
          },
          "metadata": {},
          "execution_count": 28
        }
      ]
    },
    {
      "cell_type": "code",
      "source": [
        "8. #Write a program to demostrate the use of logical operators.\n",
        "a=5\n",
        "b=4\n",
        "c=3\n",
        "if a>b and a>c:\n",
        "  print(\"a is greater than both b and c\")\n",
        "elif b>a and b>c:\n",
        "  print(\"b is greater than both a and c\")\n",
        "elif c>a and c>b:\n",
        "  print(\"c is greater than a and b\")\n",
        "else:\n",
        "  print(\"shinchan\")"
      ],
      "metadata": {
        "colab": {
          "base_uri": "https://localhost:8080/"
        },
        "id": "R74mAzlngT0a",
        "outputId": "15f21742-d661-4fd6-dcca-31e3c72a22f8"
      },
      "execution_count": 29,
      "outputs": [
        {
          "output_type": "stream",
          "name": "stdout",
          "text": [
            "a is greater than both b and c\n"
          ]
        }
      ]
    },
    {
      "cell_type": "code",
      "source": [
        "9. #Write a Python program to convert user input from string to integer, float, and boolean types.\n",
        "a=\"5\"\n",
        "type(a)"
      ],
      "metadata": {
        "colab": {
          "base_uri": "https://localhost:8080/"
        },
        "id": "sYE6CJdVhXV7",
        "outputId": "9a1b3660-fc0d-4d79-db03-47af5a079cc3"
      },
      "execution_count": 31,
      "outputs": [
        {
          "output_type": "execute_result",
          "data": {
            "text/plain": [
              "str"
            ]
          },
          "metadata": {},
          "execution_count": 31
        }
      ]
    },
    {
      "cell_type": "code",
      "source": [
        "a=\"5\"\n",
        "print(type(a))\n",
        "print(type(int(a)))"
      ],
      "metadata": {
        "colab": {
          "base_uri": "https://localhost:8080/"
        },
        "id": "kBr_Dw0ahgv8",
        "outputId": "ce1d4e88-4878-4f14-e076-57d22c7fb14c"
      },
      "execution_count": 32,
      "outputs": [
        {
          "output_type": "stream",
          "name": "stdout",
          "text": [
            "<class 'str'>\n",
            "<class 'int'>\n"
          ]
        }
      ]
    },
    {
      "cell_type": "code",
      "source": [
        "a=\"5.2\"\n",
        "print(type(a))\n",
        "print(type(float(a)))"
      ],
      "metadata": {
        "colab": {
          "base_uri": "https://localhost:8080/"
        },
        "id": "RMoja7CShsTz",
        "outputId": "3336bd61-049e-469d-94cb-bcbb50f0c482"
      },
      "execution_count": 33,
      "outputs": [
        {
          "output_type": "stream",
          "name": "stdout",
          "text": [
            "<class 'str'>\n",
            "<class 'float'>\n"
          ]
        }
      ]
    },
    {
      "cell_type": "code",
      "source": [
        "a=\"True\"\n",
        "print(type(a))\n",
        "print(type(bool(a)))"
      ],
      "metadata": {
        "colab": {
          "base_uri": "https://localhost:8080/"
        },
        "id": "QAmbWHYdh1wh",
        "outputId": "cded2240-9f4d-4404-b198-c415c4584c50"
      },
      "execution_count": 34,
      "outputs": [
        {
          "output_type": "stream",
          "name": "stdout",
          "text": [
            "<class 'str'>\n",
            "<class 'bool'>\n"
          ]
        }
      ]
    },
    {
      "cell_type": "code",
      "source": [
        "10. #Write code to demonstrate type casting with list elements.\n",
        "list=[1,3.5,True,\"moon\"]\n",
        "list"
      ],
      "metadata": {
        "colab": {
          "base_uri": "https://localhost:8080/"
        },
        "id": "XggJ7ZT5h1rw",
        "outputId": "fc244aa4-987a-4751-9652-22ec6afa7657"
      },
      "execution_count": 35,
      "outputs": [
        {
          "output_type": "execute_result",
          "data": {
            "text/plain": [
              "[1, 3.5, True, 'moon']"
            ]
          },
          "metadata": {},
          "execution_count": 35
        }
      ]
    },
    {
      "cell_type": "code",
      "source": [
        "list[1]"
      ],
      "metadata": {
        "colab": {
          "base_uri": "https://localhost:8080/"
        },
        "id": "v7XYmoJCh1pO",
        "outputId": "358f7365-037b-4567-c03f-d4c823425804"
      },
      "execution_count": 36,
      "outputs": [
        {
          "output_type": "execute_result",
          "data": {
            "text/plain": [
              "3.5"
            ]
          },
          "metadata": {},
          "execution_count": 36
        }
      ]
    },
    {
      "cell_type": "code",
      "source": [
        "11. #Write a program to checks if a number is positive, negative, or zero.\n",
        "a=\"Shinchan\"\n",
        "a"
      ],
      "metadata": {
        "colab": {
          "base_uri": "https://localhost:8080/",
          "height": 35
        },
        "id": "OUvMuFaRh1m-",
        "outputId": "876d0a49-38ce-44cd-ed74-5b34b382670d"
      },
      "execution_count": 37,
      "outputs": [
        {
          "output_type": "execute_result",
          "data": {
            "text/plain": [
              "'Shinchan'"
            ],
            "application/vnd.google.colaboratory.intrinsic+json": {
              "type": "string"
            }
          },
          "metadata": {},
          "execution_count": 37
        }
      ]
    },
    {
      "cell_type": "code",
      "source": [
        "a[0]"
      ],
      "metadata": {
        "colab": {
          "base_uri": "https://localhost:8080/",
          "height": 35
        },
        "id": "ubFdK-w0iYCE",
        "outputId": "01083ec1-c47a-49a1-83ab-4e6db5f213a9"
      },
      "execution_count": 38,
      "outputs": [
        {
          "output_type": "execute_result",
          "data": {
            "text/plain": [
              "'S'"
            ],
            "application/vnd.google.colaboratory.intrinsic+json": {
              "type": "string"
            }
          },
          "metadata": {},
          "execution_count": 38
        }
      ]
    },
    {
      "cell_type": "code",
      "source": [
        "a[-1]"
      ],
      "metadata": {
        "colab": {
          "base_uri": "https://localhost:8080/",
          "height": 35
        },
        "id": "gjwiw4wribVe",
        "outputId": "f8621f17-3846-406f-a0b8-4e2a3b44366e"
      },
      "execution_count": 39,
      "outputs": [
        {
          "output_type": "execute_result",
          "data": {
            "text/plain": [
              "'n'"
            ],
            "application/vnd.google.colaboratory.intrinsic+json": {
              "type": "string"
            }
          },
          "metadata": {},
          "execution_count": 39
        }
      ]
    },
    {
      "cell_type": "code",
      "source": [
        "a[3]"
      ],
      "metadata": {
        "colab": {
          "base_uri": "https://localhost:8080/",
          "height": 35
        },
        "id": "_Ay0CoUwic-B",
        "outputId": "7804896c-e5b7-48ae-dcb0-bee150958ea3"
      },
      "execution_count": 40,
      "outputs": [
        {
          "output_type": "execute_result",
          "data": {
            "text/plain": [
              "'n'"
            ],
            "application/vnd.google.colaboratory.intrinsic+json": {
              "type": "string"
            }
          },
          "metadata": {},
          "execution_count": 40
        }
      ]
    },
    {
      "cell_type": "code",
      "source": [
        "12. #Write a for loop to print numbers from 1 to 10.\n",
        "for i in range(1,11):\n",
        "      print(i)"
      ],
      "metadata": {
        "colab": {
          "base_uri": "https://localhost:8080/"
        },
        "id": "qiIsijKXiedf",
        "outputId": "443f78b9-0216-419a-c017-720a92a3d1df"
      },
      "execution_count": 41,
      "outputs": [
        {
          "output_type": "stream",
          "name": "stdout",
          "text": [
            "1\n",
            "2\n",
            "3\n",
            "4\n",
            "5\n",
            "6\n",
            "7\n",
            "8\n",
            "9\n",
            "10\n"
          ]
        }
      ]
    },
    {
      "cell_type": "code",
      "source": [
        "13. #Write a Python program to find the sum of all even numbers between 1 and 50.\n",
        "sum=0\n",
        "for number in range(1,51):\n",
        "   if number%2==0:\n",
        "        sum+=number\n",
        "        print(sum)"
      ],
      "metadata": {
        "colab": {
          "base_uri": "https://localhost:8080/"
        },
        "id": "ICUY5DjcinHp",
        "outputId": "86654e9d-4115-4c2a-cf81-7af7cd17fb16"
      },
      "execution_count": 42,
      "outputs": [
        {
          "output_type": "stream",
          "name": "stdout",
          "text": [
            "2\n",
            "6\n",
            "12\n",
            "20\n",
            "30\n",
            "42\n",
            "56\n",
            "72\n",
            "90\n",
            "110\n",
            "132\n",
            "156\n",
            "182\n",
            "210\n",
            "240\n",
            "272\n",
            "306\n",
            "342\n",
            "380\n",
            "420\n",
            "462\n",
            "506\n",
            "552\n",
            "600\n",
            "650\n"
          ]
        }
      ]
    },
    {
      "cell_type": "code",
      "source": [
        "14. #Write a program to reverse a string using a while loop.\n",
        "string1=\"Virat kohli\"\n",
        "string1"
      ],
      "metadata": {
        "colab": {
          "base_uri": "https://localhost:8080/",
          "height": 35
        },
        "id": "CgOemDZ0izRv",
        "outputId": "12d7a061-d11c-43e6-b937-f584f34e5a16"
      },
      "execution_count": 43,
      "outputs": [
        {
          "output_type": "execute_result",
          "data": {
            "text/plain": [
              "'Virat kohli'"
            ],
            "application/vnd.google.colaboratory.intrinsic+json": {
              "type": "string"
            }
          },
          "metadata": {},
          "execution_count": 43
        }
      ]
    },
    {
      "cell_type": "code",
      "source": [
        "string1[::-1]"
      ],
      "metadata": {
        "colab": {
          "base_uri": "https://localhost:8080/",
          "height": 35
        },
        "id": "LU7DcyACi6GF",
        "outputId": "5dcfccab-3523-457b-acad-e001c8c7d44a"
      },
      "execution_count": 44,
      "outputs": [
        {
          "output_type": "execute_result",
          "data": {
            "text/plain": [
              "'ilhok tariV'"
            ],
            "application/vnd.google.colaboratory.intrinsic+json": {
              "type": "string"
            }
          },
          "metadata": {},
          "execution_count": 44
        }
      ]
    },
    {
      "cell_type": "code",
      "source": [
        "15. #Write a Python program to calculate the factorial of a number provided by the user using a while loop.\n",
        "number=1\n",
        "if number<0:\n",
        "    print(\"factorial is not defined for negative number.\")\n",
        "else:\n",
        "     factorial = 1\n",
        "     i=1\n",
        "     while i<=number:\n",
        "       factorial*=1\n",
        "       i+=1\n",
        "       print(\"the factorial of (number) is (factorial)\")"
      ],
      "metadata": {
        "colab": {
          "base_uri": "https://localhost:8080/"
        },
        "id": "7UBWnK6xi9S6",
        "outputId": "7f0755f5-2a4c-42fa-953e-75cab5e6ff7d"
      },
      "execution_count": 49,
      "outputs": [
        {
          "output_type": "stream",
          "name": "stdout",
          "text": [
            "the factorial of (number) is (factorial)\n"
          ]
        }
      ]
    },
    {
      "cell_type": "code",
      "source": [],
      "metadata": {
        "id": "wPBkrryJjqlA"
      },
      "execution_count": null,
      "outputs": []
    }
  ]
}